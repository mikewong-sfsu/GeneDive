{
 "cells": [
  {
   "cell_type": "markdown",
   "metadata": {},
   "source": [
    "** Build Adjacency Matrix **"
   ]
  },
  {
   "cell_type": "code",
   "execution_count": 1,
   "metadata": {
    "collapsed": true
   },
   "outputs": [],
   "source": [
    "import sqlite3\n",
    "import json"
   ]
  },
  {
   "cell_type": "code",
   "execution_count": 2,
   "metadata": {
    "collapsed": true
   },
   "outputs": [],
   "source": [
    "DATABASE = \"data.sqlite\""
   ]
  },
  {
   "cell_type": "code",
   "execution_count": 3,
   "metadata": {
    "collapsed": true
   },
   "outputs": [],
   "source": [
    "conn = sqlite3.connect(DATABASE)\n",
    "cursor = conn.cursor()"
   ]
  },
  {
   "cell_type": "markdown",
   "metadata": {},
   "source": [
    "Queries"
   ]
  },
  {
   "cell_type": "code",
   "execution_count": 4,
   "metadata": {
    "collapsed": true
   },
   "outputs": [],
   "source": [
    "# For getting the maximum row id\n",
    "QUERY_MAX_ID = \"SELECT id FROM interactions ORDER BY id DESC LIMIT 1\"\n",
    "\n",
    "# Get interaction data\n",
    "QUERY_INTERACTION = \"SELECT geneids1, geneids2, probability FROM interactions WHERE id = {}\""
   ]
  },
  {
   "cell_type": "code",
   "execution_count": 5,
   "metadata": {
    "collapsed": true
   },
   "outputs": [],
   "source": [
    "max_id = cursor.execute(QUERY_MAX_ID).fetchone()[0]"
   ]
  },
  {
   "cell_type": "markdown",
   "metadata": {},
   "source": [
    "Step through every interaction.\n",
    "\n",
    "1. If geneids1 not in matrix - insert it as dict.\n",
    "2. If geneids2 not in matrix[geneids1] - insert it as []\n",
    "3. If probability not in matrix[geneids1][geneids2] - insert it.\n",
    "4. Perform the reverse."
   ]
  },
  {
   "cell_type": "code",
   "execution_count": 6,
   "metadata": {
    "collapsed": true
   },
   "outputs": [],
   "source": [
    "matrix = {}\n",
    "row_id = 0\n",
    "\n",
    "while row_id <= max_id:\n",
    "    row_id+= 1\n",
    "    \n",
    "    row = cursor.execute(QUERY_INTERACTION.format(row_id))\n",
    "    row = row.fetchone()\n",
    "    \n",
    "    if row == None:\n",
    "        continue\n",
    "     \n",
    "    id1 = row[0]\n",
    "    id2 = row[1]\n",
    "    prob = int(round(row[2],2) * 1000)\n",
    "\n",
    "    # Forward\n",
    "    if id1 not in matrix:\n",
    "        matrix[id1] = {}\n",
    "\n",
    "    if id2 not in matrix[id1]:\n",
    "        matrix[id1][id2] = []\n",
    "\n",
    "    if prob not in matrix[id1][id2]:\n",
    "        matrix[id1][id2].append(prob)\n",
    "    \n",
    "    # Backwards\n",
    "    if id2 not in matrix:\n",
    "        matrix[id2] = {}\n",
    "\n",
    "    if id1 not in matrix[id2]:\n",
    "        matrix[id2][id1] = []\n",
    "\n",
    "    if prob not in matrix[id2][id1]:\n",
    "        matrix[id2][id1].append(prob)\n",
    "    "
   ]
  },
  {
   "cell_type": "code",
   "execution_count": 7,
   "metadata": {
    "collapsed": true
   },
   "outputs": [],
   "source": [
    "with open(\"matrix.json\", \"w+\") as file:\n",
    "    file.write(json.dumps( matrix ))"
   ]
  },
  {
   "cell_type": "code",
   "execution_count": null,
   "metadata": {
    "collapsed": true
   },
   "outputs": [],
   "source": []
  }
 ],
 "metadata": {
  "kernelspec": {
   "display_name": "Python 3",
   "language": "python",
   "name": "python3"
  },
  "language_info": {
   "codemirror_mode": {
    "name": "ipython",
    "version": 3
   },
   "file_extension": ".py",
   "mimetype": "text/x-python",
   "name": "python",
   "nbconvert_exporter": "python",
   "pygments_lexer": "ipython3",
   "version": "3.6.5"
  }
 },
 "nbformat": 4,
 "nbformat_minor": 2
}
