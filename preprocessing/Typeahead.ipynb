{
 "cells": [
  {
   "cell_type": "markdown",
   "metadata": {},
   "source": [
    "** Build Adjacency Matrix **"
   ]
  },
  {
   "cell_type": "code",
   "execution_count": 1,
   "metadata": {},
   "outputs": [],
   "source": [
    "import sqlite3\n",
    "import json"
   ]
  },
  {
   "cell_type": "code",
   "execution_count": 2,
   "metadata": {},
   "outputs": [],
   "source": [
    "# Progress Bar I found on the internet.\n",
    "# https://github.com/alexanderkuk/log-progress\n",
    "from progress_bar import log_progress"
   ]
  },
  {
   "cell_type": "code",
   "execution_count": 3,
   "metadata": {},
   "outputs": [],
   "source": [
    "PLOS_PMC_DB = 'sqlite_data/data.plos-pmc.sqlite'\n",
    "ALL_DB = 'sqlite_data/data.all.sqlite'\n",
    "\n",
    "PLOS_PMC_JSON_FOLDER = 'json_data/plos-pmc/'\n",
    "ALL_JSON_FOLDER = 'json_data/all/'\n",
    "\n",
    "\n",
    "\n",
    "JSON_FILES = [\n",
    "    {\n",
    "        \"var_name\" : \"AUTOCOMPLETE_SYMBOL\",\n",
    "        \"type\":\"gene\",\n",
    "        \"filename\": \"gene_id.json\",\n",
    "    },\n",
    "    {  \n",
    "        \"var_name\" : \"AUTOCOMPLETE_DISEASE\",\n",
    "        \"type\":\"disease\",\n",
    "        \"filename\": \"disease_id.json\",\n",
    "    },\n",
    "    {\n",
    "        \"var_name\" : \"AUTOCOMPLETE_CHEMICAL\",\n",
    "        \"type\":\"chemical\",\n",
    "        \"filename\": \"chemical_id.json\",\n",
    "    },\n",
    "#     {\n",
    "#         \"var_name\" : \"AUTOCOMPLETE_SYMBOL_SET\",\n",
    "#         \"type\":\"symbol\",\n",
    "#         \"filename\": \"symbol_id.json\",\n",
    "#     },\n",
    "]\n",
    "\n",
    "WRITE = True\n"
   ]
  },
  {
   "cell_type": "code",
   "execution_count": 4,
   "metadata": {},
   "outputs": [],
   "source": [
    "conn_plos_pmc = sqlite3.connect(PLOS_PMC_DB)\n",
    "cursor_plos_pmc = conn_plos_pmc.cursor()\n",
    "\n",
    "conn_all = sqlite3.connect(ALL_DB)\n",
    "cursor_all = conn_all.cursor()"
   ]
  },
  {
   "cell_type": "code",
   "execution_count": 5,
   "metadata": {
    "scrolled": true
   },
   "outputs": [],
   "source": [
    "actions = [\n",
    "    {\n",
    "        \"name\" : \"PLOS-PMC\",\n",
    "        \"db\":PLOS_PMC_DB,\n",
    "        \"json_folder\":PLOS_PMC_JSON_FOLDER,\n",
    "        \"conn\": conn_plos_pmc,\n",
    "        \"cursor\": cursor_plos_pmc,\n",
    "    },\n",
    "        {\n",
    "        \"name\" : \"All\",\n",
    "        \"db\":ALL_DB,\n",
    "        \"json_folder\":ALL_JSON_FOLDER,\n",
    "        \"conn\": conn_all,\n",
    "        \"cursor\": cursor_all,\n",
    "    },\n",
    "]"
   ]
  },
  {
   "cell_type": "markdown",
   "metadata": {},
   "source": [
    "Queries"
   ]
  },
  {
   "cell_type": "code",
   "execution_count": 6,
   "metadata": {},
   "outputs": [],
   "source": [
    "# For getting the maximum row id\n",
    "QUERY_MAX_ID = \"SELECT id FROM interactions ORDER BY id DESC LIMIT 1\"\n",
    "\n",
    "# Get interaction data\n",
    "QUERY_INTERACTION = \"SELECT distinct geneids1, mention1, geneids2, mention2 FROM interactions WHERE id = ?\"\n",
    "NEW_QUERY = \"SELECT geneids1, mention1 from interactions union select geneids2, mention2 from interactions\""
   ]
  },
  {
   "cell_type": "markdown",
   "metadata": {},
   "source": [
    "Step through every interaction.\n",
    "\n",
    "1. If geneids1 not in matrix - insert it as dict.\n",
    "2. If geneids2 not in matrix[geneids1] - insert it as []\n",
    "3. If probability not in matrix[geneids1][geneids2] - insert it.\n",
    "4. Perform the reverse."
   ]
  },
  {
   "cell_type": "code",
   "execution_count": 7,
   "metadata": {},
   "outputs": [],
   "source": [
    "def isGene( id):\n",
    "    return not isDrug(id) and not isDisease(id)\n",
    "\n",
    "def isDrug( id):\n",
    "    return len(id) > 0 and id[0] == 'C' \n",
    "\n",
    "def isDisease( id ):\n",
    "    return len(id) > 0 and id[0] == 'D'\n",
    "\n",
    "    "
   ]
  },
  {
   "cell_type": "code",
   "execution_count": 8,
   "metadata": {},
   "outputs": [
    {
     "data": {
      "application/vnd.jupyter.widget-view+json": {
       "model_id": "f629df1ba7ff46e89de313330fa335ce",
       "version_major": 2,
       "version_minor": 0
      },
      "text/plain": [
       "VBox(children=(HTML(value=''), IntProgress(value=0, max=2)))"
      ]
     },
     "metadata": {},
     "output_type": "display_data"
    },
    {
     "name": "stdout",
     "output_type": "stream",
     "text": [
      "Executing SQL query. May take a minute.\n",
      "Query complete\n"
     ]
    },
    {
     "data": {
      "application/vnd.jupyter.widget-view+json": {
       "model_id": "20df012e331342aba848d479da8995d3",
       "version_major": 2,
       "version_minor": 0
      },
      "text/plain": [
       "VBox(children=(HTML(value=''), IntProgress(value=0, max=3)))"
      ]
     },
     "metadata": {},
     "output_type": "display_data"
    },
    {
     "data": {
      "application/vnd.jupyter.widget-view+json": {
       "model_id": "8fc477ea6d8445648d741ea15acf4152",
       "version_major": 2,
       "version_minor": 0
      },
      "text/plain": [
       "VBox(children=(HTML(value=''), IntProgress(value=0, max=35276)))"
      ]
     },
     "metadata": {},
     "output_type": "display_data"
    },
    {
     "data": {
      "application/vnd.jupyter.widget-view+json": {
       "model_id": "178eaab891094d75b01e38597f95237c",
       "version_major": 2,
       "version_minor": 0
      },
      "text/plain": [
       "VBox(children=(HTML(value=''), IntProgress(value=0, max=35276)))"
      ]
     },
     "metadata": {},
     "output_type": "display_data"
    },
    {
     "data": {
      "application/vnd.jupyter.widget-view+json": {
       "model_id": "391f670f2b76458685777d4454d51df3",
       "version_major": 2,
       "version_minor": 0
      },
      "text/plain": [
       "VBox(children=(HTML(value=''), IntProgress(value=0, max=35276)))"
      ]
     },
     "metadata": {},
     "output_type": "display_data"
    },
    {
     "name": "stdout",
     "output_type": "stream",
     "text": [
      "Executing SQL query. May take a minute.\n",
      "Query complete\n"
     ]
    },
    {
     "data": {
      "application/vnd.jupyter.widget-view+json": {
       "model_id": "8475b850fb8d47f59af76286014e1825",
       "version_major": 2,
       "version_minor": 0
      },
      "text/plain": [
       "VBox(children=(HTML(value=''), IntProgress(value=0, max=3)))"
      ]
     },
     "metadata": {},
     "output_type": "display_data"
    },
    {
     "data": {
      "application/vnd.jupyter.widget-view+json": {
       "model_id": "3dd63dbbf6904e11a58eb9c0cc6a4354",
       "version_major": 2,
       "version_minor": 0
      },
      "text/plain": [
       "VBox(children=(HTML(value=''), IntProgress(value=0, max=43692)))"
      ]
     },
     "metadata": {},
     "output_type": "display_data"
    },
    {
     "data": {
      "application/vnd.jupyter.widget-view+json": {
       "model_id": "9a2ccb3c886041b982dcc289a1f916f4",
       "version_major": 2,
       "version_minor": 0
      },
      "text/plain": [
       "VBox(children=(HTML(value=''), IntProgress(value=0, max=43692)))"
      ]
     },
     "metadata": {},
     "output_type": "display_data"
    },
    {
     "data": {
      "application/vnd.jupyter.widget-view+json": {
       "model_id": "4da0dd69014c4b2b8c4af9785c4ff329",
       "version_major": 2,
       "version_minor": 0
      },
      "text/plain": [
       "VBox(children=(HTML(value=''), IntProgress(value=0, max=43692)))"
      ]
     },
     "metadata": {},
     "output_type": "display_data"
    }
   ],
   "source": [
    "for action in log_progress(actions, every=1, name=\"Total Datasets generated\"):\n",
    "    print(\"Executing SQL query. May take a minute.\")\n",
    "    cursor = action[\"cursor\"].execute(NEW_QUERY)\n",
    "    interactions = cursor.fetchall()\n",
    "    print(\"Query complete\")\n",
    "    for json_file in log_progress(JSON_FILES, every=1, name=action[\"name\"]+\" JSON files generated\"):\n",
    "        check = None\n",
    "\n",
    "        if(json_file[\"type\"] == \"gene\"):\n",
    "            check = isGene\n",
    "        elif(json_file[\"type\"] == \"disease\"):\n",
    "            check = isDisease\n",
    "        elif(json_file[\"type\"] == \"chemical\"):\n",
    "            check = isDrug\n",
    "        else:\n",
    "            raise ValueError('{type} is an unrecognized type in actions[\"{action}\"]'.format(type = json_file[\"type\"]), action = action)\n",
    "        \n",
    "        typeahead = {}\n",
    "        final = []\n",
    "        distribution = {}\n",
    "        row_id = 0\n",
    "                \n",
    "        for row in log_progress(interactions, every=1000, name=action[\"json_folder\"] + json_file[\"filename\"]+\" Progess\"):\n",
    "            if row == None:\n",
    "                continue\n",
    "                \n",
    "\n",
    "\n",
    "            id1 = row[0]\n",
    "            symbol1 = row[1]\n",
    "\n",
    "            if check(id1):\n",
    "                if symbol1 not in typeahead:\n",
    "                    typeahead[symbol1] = []\n",
    "                if id1 not in typeahead[symbol1]:\n",
    "                    typeahead[symbol1].append(id1)\n",
    "                \n",
    "        \n",
    "        if WRITE:\n",
    "            for key in typeahead:\n",
    "                final.append( {\"symbol\": key, \"values\": typeahead[key]} )\n",
    "            with open(action[\"json_folder\"] + json_file[\"filename\"], \"w+\") as file:\n",
    "                file.write(\"let \" + json_file[\"var_name\"]+\" = \"+json.dumps( final ))"
   ]
  },
  {
   "cell_type": "code",
   "execution_count": null,
   "metadata": {},
   "outputs": [],
   "source": []
  }
 ],
 "metadata": {
  "kernelspec": {
   "display_name": "Python 3",
   "language": "python",
   "name": "python3"
  },
  "language_info": {
   "codemirror_mode": {
    "name": "ipython",
    "version": 3
   },
   "file_extension": ".py",
   "mimetype": "text/x-python",
   "name": "python",
   "nbconvert_exporter": "python",
   "pygments_lexer": "ipython3",
   "version": "3.6.5"
  }
 },
 "nbformat": 4,
 "nbformat_minor": 2
}
