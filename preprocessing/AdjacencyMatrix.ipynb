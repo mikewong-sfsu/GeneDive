{
 "cells": [
  {
   "cell_type": "markdown",
   "metadata": {},
   "source": [
    "** Build Adjacency Matrix **"
   ]
  },
  {
   "cell_type": "code",
   "execution_count": 1,
   "metadata": {},
   "outputs": [],
   "source": [
    "import sqlite3\n",
    "import json"
   ]
  },
  {
   "cell_type": "code",
   "execution_count": 2,
   "metadata": {},
   "outputs": [],
   "source": [
    "# Progress Bar I found on the internet.\n",
    "# https://github.com/alexanderkuk/log-progress\n",
    "from progress_bar import log_progress"
   ]
  },
  {
   "cell_type": "code",
   "execution_count": 3,
   "metadata": {},
   "outputs": [],
   "source": [
    "\n",
    "PLOS_PMC_DB = 'sqlite_data/data.plos-pmc.sqlite'\n",
    "ALL_DB = 'sqlite_data/data.all.sqlite'\n",
    "\n",
    "PLOS_PMC_MATRIX = 'json_data/plos-pmc/adjacency_matrix.json'\n",
    "ALL_MATRIX = 'json_data/all/adjacency_matrix.json'"
   ]
  },
  {
   "cell_type": "code",
   "execution_count": 4,
   "metadata": {},
   "outputs": [],
   "source": [
    "conn_plos_pmc = sqlite3.connect(PLOS_PMC_DB)\n",
    "cursor_plos_pmc = conn_plos_pmc.cursor()\n",
    "\n",
    "conn_all = sqlite3.connect(ALL_DB)\n",
    "cursor_all = conn_all.cursor()"
   ]
  },
  {
   "cell_type": "markdown",
   "metadata": {},
   "source": [
    "Queries"
   ]
  },
  {
   "cell_type": "code",
   "execution_count": 5,
   "metadata": {},
   "outputs": [],
   "source": [
    "# For getting the maximum row id\n",
    "QUERY_MAX_ID = \"SELECT id FROM interactions ORDER BY id DESC LIMIT 1\"\n",
    "\n",
    "# Get interaction data\n",
    "QUERY_INTERACTION = \"SELECT geneids1, geneids2, probability FROM interactions WHERE id = {}\""
   ]
  },
  {
   "cell_type": "code",
   "execution_count": 6,
   "metadata": {},
   "outputs": [],
   "source": [
    "actions = [\n",
    "    {\n",
    "        \"db\":PLOS_PMC_DB,\n",
    "        \"matrix\" : PLOS_PMC_MATRIX,\n",
    "        \"conn\": conn_plos_pmc,\n",
    "        \"cursor\": cursor_plos_pmc,\n",
    "    },\n",
    "        {\n",
    "        \"db\":ALL_DB,\n",
    "        \"matrix\" : ALL_MATRIX,\n",
    "        \"conn\": conn_all,\n",
    "        \"cursor\": cursor_all,\n",
    "    },\n",
    "]"
   ]
  },
  {
   "cell_type": "markdown",
   "metadata": {},
   "source": [
    "Step through every interaction.\n",
    "\n",
    "1. If geneids1 not in matrix - insert it as dict.\n",
    "2. If geneids2 not in matrix[geneids1] - insert it as []\n",
    "3. If probability not in matrix[geneids1][geneids2] - insert it.\n",
    "4. Perform the reverse."
   ]
  },
  {
   "cell_type": "code",
   "execution_count": 8,
   "metadata": {},
   "outputs": [
    {
     "data": {
      "application/vnd.jupyter.widget-view+json": {
       "model_id": "7356fa648e2e4ed3a1206bcee50946d8",
       "version_major": 2,
       "version_minor": 0
      },
      "text/html": [
       "<p>Failed to display Jupyter Widget of type <code>VBox</code>.</p>\n",
       "<p>\n",
       "  If you're reading this message in the Jupyter Notebook or JupyterLab Notebook, it may mean\n",
       "  that the widgets JavaScript is still loading. If this message persists, it\n",
       "  likely means that the widgets JavaScript library is either not installed or\n",
       "  not enabled. See the <a href=\"https://ipywidgets.readthedocs.io/en/stable/user_install.html\">Jupyter\n",
       "  Widgets Documentation</a> for setup instructions.\n",
       "</p>\n",
       "<p>\n",
       "  If you're reading this message in another frontend (for example, a static\n",
       "  rendering on GitHub or <a href=\"https://nbviewer.jupyter.org/\">NBViewer</a>),\n",
       "  it may mean that your frontend doesn't currently support widgets.\n",
       "</p>\n"
      ],
      "text/plain": [
       "VBox(children=(HTML(value=''), IntProgress(value=0, max=1)))"
      ]
     },
     "metadata": {},
     "output_type": "display_data"
    },
    {
     "data": {
      "application/vnd.jupyter.widget-view+json": {
       "model_id": "4d04ccf309b9486bb7de270c0ef0ec80",
       "version_major": 2,
       "version_minor": 0
      },
      "text/html": [
       "<p>Failed to display Jupyter Widget of type <code>VBox</code>.</p>\n",
       "<p>\n",
       "  If you're reading this message in the Jupyter Notebook or JupyterLab Notebook, it may mean\n",
       "  that the widgets JavaScript is still loading. If this message persists, it\n",
       "  likely means that the widgets JavaScript library is either not installed or\n",
       "  not enabled. See the <a href=\"https://ipywidgets.readthedocs.io/en/stable/user_install.html\">Jupyter\n",
       "  Widgets Documentation</a> for setup instructions.\n",
       "</p>\n",
       "<p>\n",
       "  If you're reading this message in another frontend (for example, a static\n",
       "  rendering on GitHub or <a href=\"https://nbviewer.jupyter.org/\">NBViewer</a>),\n",
       "  it may mean that your frontend doesn't currently support widgets.\n",
       "</p>\n"
      ],
      "text/plain": [
       "VBox(children=(HTML(value=''), IntProgress(value=0, max=4803248)))"
      ]
     },
     "metadata": {},
     "output_type": "display_data"
    }
   ],
   "source": [
    "# for action in actions:\n",
    "for action in log_progress(actions, every=1, name=\"Matrix\"):\n",
    "    max_id = action[\"cursor\"].execute(QUERY_MAX_ID).fetchone()[0]\n",
    "\n",
    "    matrix = {}\n",
    "    #row_id = 0\n",
    "\n",
    "    #while row_id <= max_id:\n",
    "    for row_id in log_progress(range(1,max_id), every=1000, name=action[\"matrix\"]+\" rows\"):\n",
    "        row_id+= 1\n",
    "\n",
    "        row = action[\"cursor\"].execute(QUERY_INTERACTION.format(row_id))\n",
    "        row = row.fetchone()\n",
    "\n",
    "        if row == None:\n",
    "            continue\n",
    "\n",
    "        id1 = row[0]\n",
    "        id2 = row[1]\n",
    "        try:\n",
    "            prob = int(round(row[2],2) * 1000)\n",
    "        except Exception:\n",
    "            continue\n",
    "\n",
    "        # Forward\n",
    "        if id1 not in matrix:\n",
    "            matrix[id1] = {}\n",
    "\n",
    "        if id2 not in matrix[id1]:\n",
    "            matrix[id1][id2] = []\n",
    "\n",
    "        if prob not in matrix[id1][id2]:\n",
    "            matrix[id1][id2].append(prob)\n",
    "\n",
    "        # Backwards\n",
    "        if id2 not in matrix:\n",
    "            matrix[id2] = {}\n",
    "\n",
    "        if id1 not in matrix[id2]:\n",
    "            matrix[id2][id1] = []\n",
    "\n",
    "        if prob not in matrix[id2][id1]:\n",
    "            matrix[id2][id1].append(prob)\n",
    "        \n",
    "    with open(action[\"matrix\"], \"w+\") as file:\n",
    "        file.write(json.dumps( matrix ))\n",
    "        \n",
    "  "
   ]
  },
  {
   "cell_type": "code",
   "execution_count": null,
   "metadata": {},
   "outputs": [],
   "source": [
    "action[\"conn\"].close()"
   ]
  }
 ],
 "metadata": {
  "kernelspec": {
   "display_name": "Python 3",
   "language": "python",
   "name": "python3"
  },
  "language_info": {
   "codemirror_mode": {
    "name": "ipython",
    "version": 3
   },
   "file_extension": ".py",
   "mimetype": "text/x-python",
   "name": "python",
   "nbconvert_exporter": "python",
   "pygments_lexer": "ipython3",
   "version": "3.5.2"
  }
 },
 "nbformat": 4,
 "nbformat_minor": 2
}
