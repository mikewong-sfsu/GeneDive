{
 "cells": [
  {
   "cell_type": "markdown",
   "metadata": {},
   "source": [
    "# Alternative ID Generation Script\n",
    "\n",
    "This will produce all the various IDs that can be used to lookup in different databases."
   ]
  },
  {
   "cell_type": "code",
   "execution_count": null,
   "metadata": {},
   "outputs": [],
   "source": [
    "# Progress Bar I found on the internet.\n",
    "# https://github.com/alexanderkuk/log-progress\n",
    "from progress_bar import log_progress\n",
    "import re\n",
    "import sqlite3\n",
    "import json\n",
    "from shutil import copy2"
   ]
  },
  {
   "cell_type": "code",
   "execution_count": null,
   "metadata": {},
   "outputs": [],
   "source": [
    "WRITE = True\n",
    "DROP_AND_REMAKE = True\n",
    "\n",
    "# TSV files containing Pharm-GKB data\n",
    "PHARMGKB_INTERACTIONS_FILE          = 'tsv_data/pharmgkb/relationships.tsv'\n",
    "PHARMGKB_CHEMICAL_IDS_FILE          = 'tsv_data/pharmgkb/ids/chemicals.tsv'\n",
    "PHARMGKB_DRUGS_IDS_FILE             = 'tsv_data/pharmgkb/ids/drugs.tsv'\n",
    "PHARMGKB_GENES_IDS_FILE             = 'tsv_data/pharmgkb/ids/genes.tsv'\n",
    "PHARMGKB_PHENOTYPES_IDS_FILE        = 'tsv_data/pharmgkb/ids/phenotypes.tsv'\n",
    "\n",
    "PHARMGKB_ID_FILES = [\n",
    "     {\"filename\":PHARMGKB_CHEMICAL_IDS_FILE},\n",
    "     {\"filename\":PHARMGKB_DRUGS_IDS_FILE},\n",
    "    {\"filename\":PHARMGKB_GENES_IDS_FILE},\n",
    "     {\"filename\":PHARMGKB_PHENOTYPES_IDS_FILE},\n",
    "]\n",
    "\n",
    "TABLE_NAME = \"alternative_ids\"\n",
    "MESH_VALUE = \"mesh\"\n",
    "PHARMGKB_VALUE = \"pgkb\"\n",
    "NCBI_VALUE = \"ncbi\"\n",
    "VALUES_COLUMN = \"vals\"\n",
    "TYPE_COLUMN = \"type\"\n",
    "DROP_SQL = 'DROP TABLE IF EXISTS {table};'.format(table = TABLE_NAME)\n",
    "SCHEMA = '''CREATE TABLE IF NOT EXISTS {table} (\n",
    "            {col1} VARCHAR UNIQUE,\n",
    "            {col2} VARCHAR UNIQUE,\n",
    "            {col3} VARCHAR UNIQUE,\n",
    "            {col4} VARCHAR,\n",
    "            {col5} VARCHAR,\n",
    "            PRIMARY KEY ({col1}, {col2}, {col3})\n",
    "            );'''.format(\n",
    "            table = TABLE_NAME, \n",
    "            col1=MESH_VALUE,\n",
    "            col2=PHARMGKB_VALUE,\n",
    "            col3=NCBI_VALUE,\n",
    "            col4=VALUES_COLUMN,\n",
    "            col5=TYPE_COLUMN)\n",
    "QUERY_UNIQUE_IDS = '''  SELECT DISTINCT geneids1,\n",
    "                        {type_col}1 FROM interactions\n",
    "                            union\n",
    "                        SELECT DISTINCT geneids2,\n",
    "                        {type_col}2 FROM interactions;'''.format(type_col = TYPE_COLUMN)\n",
    "\n",
    "PLOS_PMC_DB = 'sqlite_data/data.plos-pmc.sqlite'\n",
    "ALL_DB = 'sqlite_data/data.all.sqlite'\n",
    "\n",
    "\n",
    "\n",
    "DELIMITER = \"\\t\"\n"
   ]
  },
  {
   "cell_type": "markdown",
   "metadata": {},
   "source": [
    "### Connect to Databases"
   ]
  },
  {
   "cell_type": "code",
   "execution_count": null,
   "metadata": {},
   "outputs": [],
   "source": [
    "conn_all = sqlite3.connect(ALL_DB)\n",
    "cursor_all = conn_all.cursor()"
   ]
  },
  {
   "cell_type": "markdown",
   "metadata": {},
   "source": [
    "### Create table"
   ]
  },
  {
   "cell_type": "code",
   "execution_count": null,
   "metadata": {},
   "outputs": [],
   "source": [
    "if DROP_AND_REMAKE:\n",
    "    cursor_all.execute(DROP_SQL)\n",
    "cursor_all.execute(SCHEMA)\n",
    "\n",
    "    "
   ]
  },
  {
   "cell_type": "markdown",
   "metadata": {},
   "source": [
    "### Gather Unique IDs into Hash Map\n",
    "The index is the id, the value is an object."
   ]
  },
  {
   "cell_type": "code",
   "execution_count": null,
   "metadata": {},
   "outputs": [],
   "source": [
    "data = {}\n",
    "\n",
    "print(\"Executing SQL query. May take a minute.\")\n",
    "cursor = cursor_all.execute(QUERY_UNIQUE_IDS)\n",
    "interactions = cursor.fetchall()\n",
    "print(\"Query complete\")\n",
    "\n",
    "for row in log_progress(interactions, every=100, name=\"IDs added\"):\n",
    "\n",
    "    if row == None:\n",
    "        continue\n",
    "\n",
    "    \n",
    "    id = row[0]\n",
    "    dgr_type = row[1]\n",
    "\n",
    "    if id not in data:\n",
    "        data[id] = { TYPE_COLUMN : dgr_type}\n",
    "        \n",
    "print(\"Unique IDs added to data\")"
   ]
  },
  {
   "cell_type": "markdown",
   "metadata": {},
   "source": [
    "## Create lookup table for other values"
   ]
  },
  {
   "cell_type": "code",
   "execution_count": null,
   "metadata": {},
   "outputs": [],
   "source": [
    "id_map = {}\n",
    "\n",
    "for id_file in PHARMGKB_ID_FILES:\n",
    "    with open(id_file[\"filename\"]) as file:\n",
    "        try:\n",
    "            header = None\n",
    "            linenum = 0\n",
    "            for line in file:\n",
    "                linenum+=1\n",
    "                pgkb = None\n",
    "                ncbi = None\n",
    "                mesh = None\n",
    "\n",
    "                # deliminate the lines\n",
    "                line = line.strip().split(DELIMITER)\n",
    "\n",
    "                # Read the headers of the file and assign them to a dictionary {column_name: column_number}\n",
    "                if linenum == 1:\n",
    "                    header = {name.strip(): col for col, name in enumerate(line)}\n",
    "                    print(header)                    \n",
    "                    continue\n",
    "\n",
    "                \n",
    "\n",
    "\n",
    "                # set variables\n",
    "                pgkb = line[header[\"PharmGKB Accession Id\"]]\n",
    "\n",
    "                if \"NCBI Gene ID\" in header:\n",
    "                    ncbi = line[header[\"NCBI Gene ID\"]]\n",
    "                if 'External Vocabulary'in header:\n",
    "                    if len(line) > header['External Vocabulary']: # If a line doesn't have data on the end, it wont be in the delimination\n",
    "                        external = str(line[header['External Vocabulary']]).replace('\"', \"\") # weird bug where quotes break regex\n",
    "                        match = re.match('MESH:[0-9A-Za-z]+',external,re.IGNORECASE)\n",
    "                        if match != None:\n",
    "                            mesh = match.group(0).upper()\n",
    "\n",
    "                # fill map   \n",
    "                values = {PHARMGKB_VALUE: pgkb}                \n",
    "                if ncbi is not None:\n",
    "                    values[NCBI_VALUE] = ncbi\n",
    "                if mesh is not None:\n",
    "                    values[MESH_VALUE] = mesh\n",
    "        \n",
    "                id_map[pgkb] = values\n",
    "                \n",
    "                if ncbi is not None:\n",
    "                    id_map[ncbi] = values\n",
    "                if mesh is not None:\n",
    "                    id_map[mesh] = values\n",
    "                \n",
    "\n",
    "        except Exception as e:\n",
    "            print(line)\n",
    "            raise e"
   ]
  },
  {
   "cell_type": "code",
   "execution_count": null,
   "metadata": {
    "scrolled": true
   },
   "outputs": [],
   "source": [
    "# Just to test\n",
    "print(json.dumps(data['1000']))"
   ]
  },
  {
   "cell_type": "markdown",
   "metadata": {},
   "source": [
    "### Go through each ID and find all alternative values"
   ]
  },
  {
   "cell_type": "code",
   "execution_count": null,
   "metadata": {},
   "outputs": [],
   "source": [
    "\n",
    "\n",
    "def getType(string):\n",
    "    if string[:2] in 'PA':\n",
    "        return PHARMGKB_VALUE\n",
    "    elif string[:5] in 'MESH:':\n",
    "        return MESH_VALUE\n",
    "    else:\n",
    "        return NCBI_VALUE\n",
    "\n",
    "count = 0\n",
    "for value in log_progress(data, every=1000, name=\"IDs looked up \"):\n",
    "\n",
    "    try:\n",
    "        ncbi_value = None\n",
    "        pharmgkb_value = None\n",
    "        mesh_value = None\n",
    "\n",
    "        data_values = data.values()\n",
    "        \n",
    "        # Get ID type\n",
    "        if value in id_map:\n",
    "            map_data = id_map[value]\n",
    "        \n",
    "\n",
    "            # Lookup NCBI\n",
    "            if NCBI_VALUE in map_data:\n",
    "                ncbi_value = map_data[NCBI_VALUE]\n",
    "                data[value][NCBI_VALUE] = ncbi_value\n",
    "\n",
    "            # lookup PharmGKB\n",
    "            if PHARMGKB_VALUE in map_data:\n",
    "                pharmgkb_value = map_data[PHARMGKB_VALUE]\n",
    "                data[value][PHARMGKB_VALUE] = pharmgkb_value\n",
    "\n",
    "            # Lookup MESH\n",
    "            if MESH_VALUE in map_data:\n",
    "                mesh_value = map_data[MESH_VALUE]\n",
    "                data[value][MESH_VALUE] = mesh_value\n",
    "\n",
    "        if value not in data_values:\n",
    "            data[value][getType(value)] = value\n",
    "            # print(value, data[value])\n",
    "\n",
    "        # If no alias found\n",
    "        if len(data[value]) == 2:\n",
    "            print(value, data[value])\n",
    "        else:\n",
    "            count+=1\n",
    "    except Exception as e:\n",
    "        print(value, str(e))\n",
    "    \n",
    "\n",
    "print(\"Total with aliases:\", count, \"/\", len(data))"
   ]
  },
  {
   "cell_type": "code",
   "execution_count": null,
   "metadata": {},
   "outputs": [],
   "source": [
    "data[\"155060\"]"
   ]
  },
  {
   "cell_type": "markdown",
   "metadata": {},
   "source": [
    "### Add data to database"
   ]
  },
  {
   "cell_type": "code",
   "execution_count": null,
   "metadata": {},
   "outputs": [],
   "source": [
    "ALIASES_WRITE = '''INSERT OR IGNORE INTO {table} (\n",
    "                {col1}, {col2}, {col3}, {col4}, {col5} )\n",
    "                VALUES ( ? , ? , ? , ? , ? );'''.format(\n",
    "            table = TABLE_NAME, \n",
    "            col1=MESH_VALUE,\n",
    "            col2=PHARMGKB_VALUE,\n",
    "            col3=NCBI_VALUE,\n",
    "            col4=VALUES_COLUMN,\n",
    "            col5=TYPE_COLUMN)\n",
    "\n",
    "if '' in data:\n",
    "    del data['']\n",
    "\n",
    "for key in log_progress(data, every=1000, name=\"Added to DB\"):\n",
    "    try:\n",
    "        values = data[key]\n",
    "        values_str = json.dumps(values)\n",
    "        values_type = values[\"type\"]\n",
    "        \n",
    "        \n",
    "        mesh_val = None\n",
    "        pgkb_val = None\n",
    "        ncbi_val = None\n",
    "        \n",
    "        if MESH_VALUE in values:\n",
    "            mesh_val = values[MESH_VALUE]\n",
    "        \n",
    "        if PHARMGKB_VALUE in values:\n",
    "            pgkb_val = values[PHARMGKB_VALUE]\n",
    "            \n",
    "        if NCBI_VALUE in values:\n",
    "            ncbi_val = values[NCBI_VALUE]\n",
    "\n",
    "    \n",
    "        cursor_all.execute(ALIASES_WRITE,(mesh_val, pgkb_val, ncbi_val, values_str, values_type))        \n",
    "\n",
    "    except Exception as e:\n",
    "        print(key, values)\n",
    "        raise e\n",
    "if WRITE:\n",
    "    conn_all.commit()\n",
    "    \n",
    "print(\"Data committed\")\n",
    "\n",
    "if WRITE:\n",
    "    with open(\"all_aliases_for_mike.json\", \"w+\") as file:\n",
    "        file.write(json.dumps( data ))\n",
    "        \n",
    "print(\"file written\")"
   ]
  },
  {
   "cell_type": "code",
   "execution_count": null,
   "metadata": {},
   "outputs": [],
   "source": []
  }
 ],
 "metadata": {
  "kernelspec": {
   "display_name": "Python 3",
   "language": "python",
   "name": "python3"
  },
  "language_info": {
   "codemirror_mode": {
    "name": "ipython",
    "version": 3
   },
   "file_extension": ".py",
   "mimetype": "text/x-python",
   "name": "python",
   "nbconvert_exporter": "python",
   "pygments_lexer": "ipython3",
   "version": "3.6.5"
  }
 },
 "nbformat": 4,
 "nbformat_minor": 2
}
