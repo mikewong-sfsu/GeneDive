{
 "cells": [
  {
   "cell_type": "markdown",
   "metadata": {},
   "source": [
    "# Extract-Transform-Load Script\n",
    "\n",
    "Extract-Transform-Load Scripts (ETLS) are common tools in data management. The purpose of ETLS is to gather relevant data (both direct and inferred) from public databases and capture important features in a possibly different data structure schema for specific analysis.\n",
    "\n",
    "## PubMed Central ETLS Example\n",
    "\n",
    "This script will Extract data from the CSV files provided to us by Stanford, Transform the data into a format usable by GeneDive, and then Load the data into the GeneDive sqlite database.\n",
    "\n",
    "Whenever new data is obtained for GeneDive, this process should be run against that dataset. "
   ]
  },
  {
   "cell_type": "code",
   "execution_count": 1,
   "metadata": {},
   "outputs": [],
   "source": [
    "import re\n",
    "import sqlite3\n",
    "from shutil import copy2"
   ]
  },
  {
   "cell_type": "code",
   "execution_count": 2,
   "metadata": {},
   "outputs": [],
   "source": [
    "# Progress Bar I found on the internet.\n",
    "# https://github.com/alexanderkuk/log-progress\n",
    "from progress_bar import log_progress"
   ]
  },
  {
   "cell_type": "markdown",
   "metadata": {},
   "source": [
    "## <span style=\"color:red\">IMPORTANT!</span> You need to create folders and organize the data before starting\n",
    "\n",
    "Below are many file names and directory names. You have to create the directories and put the files correctly in them.\n",
    "\n",
    "`GENE_GENE_INTERACTIONS_FILE`, `GENE_DRUG_INTERACTIONS_FILE`, and `GENE_DISEASE_INTERACTIONS_FILE` are TSV files from Emily. If they come with a .csv extension, and they are tab seperated, rename them. If they are deliminated some other way, change their extensions appropriately and change the value of `DELIMITER` below.\n",
    "\n",
    "`GOOD_PHARM_GKB_DB`, `GOOD_ALL_DB`, and `GOOD_PLOS_PMC_DB` are the current working, valid databases used in GeneDive. They will not be altered, but instead they will be copied and updated.\n",
    "\n",
    "`PLOS_PMC_DB` and `ALL_DB` are the newly generated databases."
   ]
  },
  {
   "cell_type": "code",
   "execution_count": 3,
   "metadata": {},
   "outputs": [],
   "source": [
    "PLOS_PMC_NAME = \"PLOS-PMC\"\n",
    "PHARMGKB_NAME = \"PHARMGKB\"\n",
    "ALL_NAME = \"ALL\"\n",
    "\n",
    "# TSV files containing PLOS-PMC data\n",
    "GENE_GENE_PLOS_INTERACTIONS_FILE    = 'tsv_data/plos_pmc/plos_with_excerpts.tsv'\n",
    "GENE_GENE_PMC_INTERACTIONS_FILE     = 'tsv_data/plos_pmc/pmc_with_excerpts.tsv'\n",
    "GENE_DRUG_INTERACTIONS_FILE         = 'tsv_data/genedrug_relationship_100417_sfsu_with_excerpts.tsv'\n",
    "GENE_DISEASE_INTERACTIONS_FILE      = 'tsv_data/genedisease_relationship_100417_sfsu_with_excerpts.tsv'\n",
    "\n",
    "# TSV files containing Pharm-GKB data\n",
    "PHARMGKB_INTERACTIONS_FILE          = 'tsv_data/pharmgkb/relationships.tsv'\n",
    "PHARMGKB_CHEMICAL_IDS_FILE          = 'tsv_data/pharmgkb/ids/chemicals.tsv'\n",
    "PHARMGKB_DRUGS_IDS_FILE             = 'tsv_data/pharmgkb/ids/drugs.tsv'\n",
    "PHARMGKB_GENES_IDS_FILE             = 'tsv_data/pharmgkb/ids/genes.tsv'\n",
    "PHARMGKB_PHENOTYPES_IDS_FILE        = 'tsv_data/pharmgkb/ids/phenotypes.tsv'\n",
    "\n",
    "# These will be unaltered\n",
    "GOOD_PHARM_GKB_DB = 'sqlite_data/good_data/data.pgkb.sqlite'\n",
    "GOOD_ALL_DB = 'sqlite_data/good_data/data.all.sqlite'\n",
    "GOOD_PLOS_PMC_DB = 'sqlite_data/good_data/data.plos-pmc.sqlite'\n",
    "\n",
    "# These will be created/overwritten\n",
    "PLOS_PMC_DB = 'sqlite_data/data.plos-pmc.sqlite' # This will be just the data from emilies files\n",
    "ALL_DB = 'sqlite_data/data.all.sqlite' # This is a combination of emilies files and PharmGKB\n",
    "\n",
    "# if excepts alrady come wrapped with pound signs, set this to false\n",
    "WRAP_EXCERPTS = True\n",
    "\n",
    "DELIMITER = \"\\t\"\n",
    "EMILYS_FILES = [\n",
    "    {\"filename\":GENE_GENE_PLOS_INTERACTIONS_FILE,\"type\":\"GeneGene\", \"source\" : \"PLOS\"},\n",
    "    {\"filename\":GENE_GENE_PMC_INTERACTIONS_FILE,\"type\":\"GeneGene\", \"source\" : \"PMC\"},\n",
    "    {\"filename\":GENE_DRUG_INTERACTIONS_FILE,\"type\":\"GeneDrug\", \"source\" : \"Emily\"},\n",
    "    {\"filename\":GENE_DISEASE_INTERACTIONS_FILE,\"type\":\"GeneDisease\", \"source\" : \"Emily\"},\n",
    "]\n",
    "\n",
    "PHARMGKB_ID_FILES = [\n",
    "#     {\"filename\":PHARMGKB_CHEMICAL_IDS_FILE, \"type\" : \"chemicals\"},\n",
    "#     {\"filename\":PHARMGKB_DRUGS_IDS_FILE, \"type\" : \"drugs\"},\n",
    "    {\"filename\":PHARMGKB_GENES_IDS_FILE, \"type\" : \"genes\",},\n",
    "     {\"filename\":PHARMGKB_PHENOTYPES_IDS_FILE, \"type\" : \"phenotypes\"},\n",
    "]"
   ]
  },
  {
   "cell_type": "markdown",
   "metadata": {},
   "source": [
    "If write is false, the script will run but not write anything to the database. This keeps it safe while you're nosing around, and can also be useful if you need to re-generate the complete typeahead/adjacency files."
   ]
  },
  {
   "cell_type": "code",
   "execution_count": 4,
   "metadata": {},
   "outputs": [],
   "source": [
    "WRITE = True"
   ]
  },
  {
   "cell_type": "markdown",
   "metadata": {},
   "source": [
    "This copies the fields, then initializes the connections. The `databases` array will be looped through at the end, applying all the interactions to each database."
   ]
  },
  {
   "cell_type": "code",
   "execution_count": 5,
   "metadata": {},
   "outputs": [],
   "source": [
    "copy2(GOOD_PLOS_PMC_DB, PLOS_PMC_DB)\n",
    "conn_plos_pmc = sqlite3.connect(PLOS_PMC_DB)\n",
    "cursor_plos_pmc = conn_plos_pmc.cursor()\n",
    "\n",
    "copy2(GOOD_ALL_DB, ALL_DB)\n",
    "conn_all = sqlite3.connect(ALL_DB)\n",
    "cursor_all = conn_all.cursor()\n",
    "\n",
    "\n",
    "databases = [\n",
    "#     {\"conn\": conn_plos_pmc, \"cursor\": cursor_plos_pmc, \"name\": PLOS_PMC_NAME}, \n",
    "    {\"conn\": conn_all, \"cursor\": cursor_all, \"name\": ALL_NAME}\n",
    "]"
   ]
  },
  {
   "cell_type": "markdown",
   "metadata": {},
   "source": [
    "## PharmGKB ids\n",
    "This data is used to convert ids in our database. Genes should be NCBI ids, Drugs should be PharmGKB, and Diseases should be Mesh"
   ]
  },
  {
   "cell_type": "code",
   "execution_count": 6,
   "metadata": {},
   "outputs": [
    {
     "name": "stdout",
     "output_type": "stream",
     "text": [
      "{'PharmGKB Accession Id': 0, 'NCBI Gene ID': 1, 'HGNC ID': 2, 'Ensembl Id': 3, 'Name': 4, 'Symbol': 5, 'Alternate Names': 6, 'Alternate Symbols': 7, 'Is VIP': 8, 'Has Variant Annotation': 9, 'Cross-references': 10, 'Has CPIC Dosing Guideline': 11, 'Chromosome': 12, 'Chromosomal Start - GRCh37.p13': 13, 'Chromosomal Stop - GRCh37.p13': 14, 'Chromosomal Start - GRCh38.p7': 15, 'Chromosomal Stop - GRCh38.p7': 16}\n",
      "{'PharmGKB Accession Id': 0, 'Name': 1, 'Alternate Names': 2, 'Cross-references': 3, 'External Vocabulary': 4}\n"
     ]
    }
   ],
   "source": [
    "pgkb_map = {'pgkb' : {}, 'mesh':{}, 'ncbi':{},}\n",
    "\n",
    "for id_file in PHARMGKB_ID_FILES:\n",
    "    gene_file = id_file[\"type\"] == \"genes\"\n",
    "    phenotype_file = id_file[\"type\"] == \"phenotypes\"\n",
    "    with open(id_file[\"filename\"]) as file:\n",
    "        try:\n",
    "            header = None\n",
    "            linenum = 0\n",
    "            for line in file:\n",
    "                linenum+=1\n",
    "                pgkb = None\n",
    "                ncbi = None\n",
    "                mesh = None\n",
    "\n",
    "                line = line.strip().split(DELIMITER)\n",
    "\n",
    "                # Read the headers of the file and assign them to a dictionary {column_name: column_number}\n",
    "                if linenum == 1:\n",
    "                    header = {name.strip(): col for col, name in enumerate(line)}\n",
    "                    print(header)                    \n",
    "                    continue\n",
    "\n",
    "                # deliminate the lines\n",
    "\n",
    "\n",
    "                # set variables\n",
    "                pgkb = line[header[\"PharmGKB Accession Id\"]]\n",
    "\n",
    "                if gene_file:\n",
    "                    ncbi = line[header[\"NCBI Gene ID\"]]\n",
    "                elif phenotype_file:\n",
    "                    if len(line) > header['External Vocabulary']: # If a line doesn't have data on the end, it wont be in the delimination\n",
    "                        external = str(line[header['External Vocabulary']]).replace('\"', \"\") # weird bug where quotes break regex\n",
    "                        match = re.match('MESH:[0-9A-Za-z]+',external,re.IGNORECASE)\n",
    "                        if match != None:\n",
    "                            mesh = match.group(0).upper()\n",
    "\n",
    "                # fill map\n",
    "                pgkb_map[\"pgkb\"][pgkb] = {}\n",
    "\n",
    "                if ncbi is not None:\n",
    "                    pgkb_map[\"ncbi\"][ncbi] = {'pgkb':pgkb}\n",
    "                    pgkb_map[\"pgkb\"][pgkb][\"ncbi\"]  = ncbi                \n",
    "                if mesh is not None:\n",
    "                    pgkb_map[\"mesh\"][mesh] = {'pgkb':pgkb}\n",
    "                    pgkb_map[\"pgkb\"][pgkb][\"mesh\"]  = mesh\n",
    "\n",
    "        except Exception as e:\n",
    "            print(line)\n",
    "            raise e"
   ]
  },
  {
   "cell_type": "code",
   "execution_count": 7,
   "metadata": {},
   "outputs": [
    {
     "data": {
      "text/plain": [
       "{'mesh': 'MESH:D054556'}"
      ]
     },
     "execution_count": 7,
     "metadata": {},
     "output_type": "execute_result"
    }
   ],
   "source": [
    "# Just to test\n",
    "pgkb_map[\"pgkb\"]['PA447298']"
   ]
  },
  {
   "cell_type": "markdown",
   "metadata": {},
   "source": [
    "## PLOS-PMC\n",
    "Map the columns as they appear in the file to the correct values."
   ]
  },
  {
   "cell_type": "code",
   "execution_count": 8,
   "metadata": {},
   "outputs": [],
   "source": [
    "# If the exercept is not found, don't run the Excerpt wrapping cell below\n",
    "excerptFound = False\n",
    "interactions = {\n",
    "    PLOS_PMC_NAME : [],\n",
    "    PHARMGKB_NAME : [],\n",
    "}\n",
    "for data_file in EMILYS_FILES:\n",
    "    \n",
    "    gene_drug_file = data_file[\"type\"] == \"GeneDrug\"\n",
    "    gene_disease_file = data_file[\"type\"] == \"GeneDisease\"\n",
    "    gene_gene_file = data_file[\"type\"] == \"GeneGene\"\n",
    "    \n",
    "    # Identifying each DGR based on the file type a Drug (r) Disease (d) or Gene (g),\n",
    "    dgd_type1 = \"\"\n",
    "    dgd_type2 = \"g\"\n",
    "    if gene_drug_file:\n",
    "        dgd_type1 = \"r\"\n",
    "    elif gene_disease_file:\n",
    "        dgd_type1 = \"d\"\n",
    "    elif gene_gene_file:\n",
    "        dgd_type1 = \"g\"\n",
    "    else:\n",
    "        raise ValueError('{type} is an unrecognized type in EMILYS_FILES'.format(type = data_file[\"type\"]))\n",
    "        \n",
    "    with open(data_file[\"filename\"], encoding='utf-8') as file :\n",
    "        header = None\n",
    "        linenum = 0  \n",
    "        for line in file:\n",
    "            linenum+=1\n",
    "            \n",
    "            # Read the headers of the file and assign them to a dictionary {column_name: column_number}\n",
    "            if linenum == 1:\n",
    "                header = {name.strip(): col for col, name in enumerate(line.split(DELIMITER))}\n",
    "                \n",
    "                # The GeneGene headers differ from Gene Drug and Gene Disease. This normalizes them.\n",
    "                if \"geneids\" in header and \"disease_ids\" in header: # GeneDrug/GeneDisease\n",
    "                    header[\"dgr1\"] = header[\"geneids\"]\n",
    "                    header[\"dgr2\"] = header[\"disease_ids\"]                    \n",
    "                    header[\"mention1_offset\"] = header[\"mention1_offset_start\"]\n",
    "                    header[\"mention2_offset\"] = header[\"mention2_offset_start\"]\n",
    "                elif \"geneids1\" in header and \"geneids2\" in header: # GeneGene\n",
    "                    header[\"dgr1\"] = header[\"geneids1\"]\n",
    "                    header[\"dgr2\"] = header[\"geneids2\"]\n",
    "                else:\n",
    "                    raise ValueError('{f} column headers didn\\'t contain expected values'.format(f = data_file[\"filename\"]))\n",
    "                \n",
    "                # if no excerpts provided, substituted with article name\n",
    "                needsTokens = False\n",
    "                if \"excerpt\" in header:                    \n",
    "                    excerptFound =  True\n",
    "                elif \"sentence\" in header:                    \n",
    "                    excerptFound =  True\n",
    "                    header[\"excerpt\"] = header[\"sentence\"]\n",
    "                else:\n",
    "                    header[\"excerpt\"] = header[\"article_id\"]\n",
    "                \n",
    "                continue\n",
    "                \n",
    "            line = line.strip().split(DELIMITER)\n",
    "            \n",
    "            section = \"Unknown\"\n",
    "            if \"section\" in data_file:\n",
    "                section = data_file[\"section\"]            \n",
    "            \n",
    "            interaction = {\n",
    "                \"journal\": line[header[\"journal\"]], # no change\n",
    "                \"article_id\": line[header[\"article_id\"]], # no change\n",
    "                \"pubmed_id\": (line[header[\"pubmed_id\"]],), # make it a tuple, so that it can be looped over later\n",
    "                \"sentence_id\": line[header[\"sentence_id\"]], # no change\n",
    "                \"mention1_offset\": line[header[\"mention1_offset\"]], # new data describes a mention1_offset_start and mention1_offset_end -- I arbitarily chose to just assign offset_start here (offset start and end are often the same anyway) \n",
    "                \"mention2_offset\": line[header[\"mention2_offset\"]], # same principle as above, but for mention2\n",
    "                \"mention1\": line[header[\"mention1\"]], # no change\n",
    "                \"mention2\": line[header[\"mention2\"]], # no change\n",
    "                \"geneids1\": line[header[\"dgr1\"]], # there's a column named \"geneids\", but it never seems to contain more than one value \"MESH:xxxxxxx\"\n",
    "                \"geneids2\": line[header[\"dgr2\"]], # the column after \"geneids\" is called \"disease_ids\", and may be a suitable substitute for this geneids value\n",
    "                \"confidence\": line[header[\"probability\"]], # no change\n",
    "                \"excerpt\": line[header[\"excerpt\"]],\n",
    "                \"type1\" : dgd_type1,\n",
    "                \"type2\" : dgd_type2,\n",
    "              }\n",
    "            \n",
    "            if data_file[\"source\"] == \"PMC\" and interaction[\"journal\"] == \"NULL\":\n",
    "                interaction[\"journal\"] = data_file[\"source\"]\n",
    "            \n",
    "            try:\n",
    "                mention1_offset = int(interaction[\"mention1_offset\"])\n",
    "                mention2_offset = int(interaction[\"mention2_offset\"])\n",
    "                excerpt = line[header[\"excerpt\"]]                \n",
    "            except Exception as e:\n",
    "                print(line)\n",
    "                print(mention1_offset,excerpt)\n",
    "                raise e\n",
    "    \n",
    "            interactions[PLOS_PMC_NAME].append(interaction)\n",
    "\n"
   ]
  },
  {
   "cell_type": "markdown",
   "metadata": {},
   "source": [
    "## PharmGKB\n",
    "Map the columns as they appear in the file to the correct values."
   ]
  },
  {
   "cell_type": "code",
   "execution_count": 9,
   "metadata": {},
   "outputs": [
    {
     "data": {
      "application/vnd.jupyter.widget-view+json": {
       "model_id": "2f144359547a48d9bb501e4ed8f21442",
       "version_major": 2,
       "version_minor": 0
      },
      "text/plain": [
       "VBox(children=(HTML(value=''), IntProgress(value=1, bar_style='info', max=1)))"
      ]
     },
     "metadata": {},
     "output_type": "display_data"
    },
    {
     "name": "stdout",
     "output_type": "stream",
     "text": [
      "{'journal': 'PharmGKB', 'article_id': '0', 'pubmed_id': ('17828532', '17965519', '21739267', '24232129', '26514968', '29472872'), 'sentence_id': '0', 'mention1_offset': '0', 'mention2_offset': '0', 'mention1': 'CYP2D6*1', 'mention2': 'aripiprazole', 'geneids1': 'PA165816576', 'geneids2': 'PA10026', 'confidence': '0.999', 'excerpt': 'Source: PharmGKB', 'type1': 'd', 'type2': 'r'} Haplotype Chemical\n",
      "26423 interactions processed\n",
      "0 interactions flipped\n",
      "1494 didn't have Pubmed IDs\n",
      "8047 interactions were ignored due to having at least one of these types: {'PA166156850', 'PA166155793', 'PA166160167', 'PA166157216', 'PA166157816', 'PA166157577', 'PA166156739', 'PA166177955', 'PA166161186', 'PA166153823', 'PA166162263', 'PA166176943', 'PA166155297', 'PA166157369', 'PA166153801', 'PA166156477', 'PA166155144', 'PA166156276', 'PA166156836', 'PA166154511', 'PA166157343', 'PA166155407', 'PA166156456', 'PA166156844', 'PA166157708', 'PA166157833', 'PA166159793', 'PA166153717', 'PA166159791', 'PA166157025', 'PA166156817', 'PA166156887', 'PA166161873', 'PA166155310', 'PA166153992', 'PA166159480', 'PA166157324', 'PA166159712', 'PA166157868', 'PA166157709', 'PA166176956', 'PA166154812', 'PA166155029', 'PA166157759', 'PA166157395', 'PA166157079', 'PA166156412', 'PA166157388', 'PA166156945', 'PA126:1183682177', 'PA166163170', 'PA166153580', 'PA166154779', 'PA166161174', 'PA166157200', 'PA166161450', 'PA166153718', 'PA166170544', 'PA166154374', 'PA166160981', 'PA166159971', 'PA166156121', 'PA166170268', 'PA166155143', 'PA166153914', 'PA166155665', 'PA166178423', 'PA166154135', 'PA166155289', 'PA166155106', 'PA166157242', 'PA166153978', 'PA166157442', 'PA166154493', 'PA166154289', 'PA166155909', 'PA166153561', 'PA166171038', 'PA166165328', 'PA166157350', 'PA166155138', 'PA166154064', 'PA166155907', 'PA166154499', 'PA166170514', 'PA166157313', 'PA166157697', 'PA166155617', 'PA166160130', 'PA166157367', 'PA166153638', 'PA166153590', 'PA166154112', 'PA166155303', 'PA166153870', 'PA166161422', 'PA166153560', 'PA166153763', 'PA166154408', 'PA166160143', 'PA166154591', 'PA166171194', 'PA166154795', 'PA166155952', 'PA166156277', 'PA166156525', 'PA166160135', 'PA166177189', 'PA166154692', 'PA166177194', 'PA166170431', 'PA166163355', 'PA166154572', 'PA166154133', 'PA166154147', 'PA166156515', 'PA166155589', 'PA166156812', 'PA166161849', 'PA166157422', 'PA166156975', 'PA166170371', 'PA166153749', 'PA166156901', 'PA166156549', 'PA166157465', 'PA166160563', 'PA166153678', 'PA166156840', 'PA166154939', 'PA166154533', 'PA166157398', 'PA166156911', 'PA166156135', 'PA166159780', 'PA166157339', 'PA166157861', 'PA166155444', 'PA166155711', 'PA166154714', 'PA166153704', 'PA166156964', 'PA166157522', 'PA166156606', 'PA166153839', 'PA166156104', 'PA166156684', 'PA166155969', 'PA166154308', 'PA166157533', 'PA166154835', 'PA166153927', 'PA166155914', 'PA166154107', 'PA166156384', 'PA166155962', 'PA166160680', 'PA166157249', 'PA166159897', 'PA166165144', 'PA166154601', 'PA166153679', 'PA166156569', 'PA166157406', 'PA166160016', 'PA166169473', 'PA166155941', 'PA166163667', 'PA166155900', 'PA166154498', 'PA166170006', 'PA166157273', 'PA166154056', 'PA166154609', 'PA166160917', 'PA166157875', 'PA166154316', 'PA166156265', 'PA166154260', 'PA166155066', 'PA166164927', 'PA166154440', 'PA166157864', 'PA166156848', 'PA166154596', 'PA166155292', 'PA166157150', 'PA166154753', 'PA166159104', 'PA166157352', 'PA166154578', 'PA166170186', 'PA166178408', 'PA166156963', 'PA166157464', 'PA166159075', 'PA166156867', 'PA166154254', 'PA166163715', 'PA166155451', 'PA166161540', 'PA166163612', 'PA166160809', 'PA166170632', 'PA166154564', 'PA166156322', 'PA166155015', 'PA166153597', 'PA166155821', 'PA166154121', 'PA166157748', 'PA166154815', 'PA166153772', 'PA166156720', 'PA166155993', 'PA166159769', 'PA166165352', 'PA166153965', 'PA166155206', 'PA166157455', 'PA166164952', 'PA166154404', 'PA166165348', 'PA166156507', 'PA166154547', 'PA166178426', 'PA166157100', 'PA166155305', 'PA166160119', 'PA166153600', 'PA166156526', 'PA166157257', 'PA166155385', 'PA166155072', 'PA166156705', 'PA166160028', 'PA166156102', 'PA166155758', 'PA166176935', 'PA166155904', 'PA166157063', 'PA166156865', 'PA166153911', 'PA166154068', 'PA166157070', 'PA166154910', 'PA166159981', 'PA166155966', 'PA166157303', 'PA166155259', 'PA166156085', 'PA166170000', 'PA166155955', 'PA166154735', 'PA166154419', 'PA166178583', 'PA166157734', 'PA166171049', 'PA166154008', 'PA166170289', 'PA166178425', 'PA166154540', 'PA166157274', 'PA166157155', 'PA166153959', 'PA166153745', 'PA166153563', 'PA166157263', 'PA166155607', 'PA166156189', 'PA166177192', 'PA166177793', 'PA166157936', 'PA166154267', 'PA166163239', 'PA166153942', 'PA166155433', 'PA166160067', 'PA166156043', 'PA166154441', 'PA166154986', 'PA166155443', 'PA166156018', 'PA166154851', 'PA166159783', 'PA166157196', 'PA166159807', 'PA166159968', 'PA166156499', 'PA166157562', 'PA166177118', 'PA166155118', 'PA166154302', 'PA166157258', 'PA166176941', 'PA166154519', 'PA166155836', 'PA166155414', 'PA166158925', 'PA166155116', 'PA166160991', 'PA166156688', 'PA166157634', 'PA166156459', 'PA166156588', 'PA166155359', 'PA166178411', 'PA166157717', 'PA166157637', 'PA166156299', 'PA166153825', 'PA166160149', 'PA166154345', 'PA166155211', 'PA166154675', 'PA166157426', 'PA166157195', 'PA166177201', 'PA166154513', 'PA166159129', 'PA166160643', 'PA166155585', 'PA166170092', 'PA166156593', 'PA166157902', 'PA166160219', 'PA166154466', 'PA166154783', 'PA166156106', 'PA166157434', 'PA166154149', 'PA145:1183944268', 'PA166159101', 'PA166165334', 'PA166157271', 'PA166164886', 'PA166155762', 'PA166157117', 'PA166161577', 'PA166154799', 'PA166153899', 'PA166155090', 'PA166154446', 'PA166153581', 'PA166157944', 'PA166169844', 'PA166153984', 'PA166154843', 'PA166153998', 'PA166155248', 'PA166177052', 'PA166156478', 'PA166153875', 'PA166154177', 'PA166153950', 'PA166157884', 'PA166154001', 'PA166154512', 'PA166157608', 'PA166155709', 'PA166160837', 'PA166153787', 'PA166176936', 'PA166157794', 'PA166156750', 'PA166153765', 'PA166154452', 'PA166154569', 'PA166163760', 'PA166156517', 'PA166160457', 'PA166159784', 'PA166157958', 'PA166154562', 'PA166161547', 'PA166156539', 'PA166153682', 'PA166153564', 'PA166165249', 'PA166156948', 'PA166159084', 'PA166156327', 'PA166156025', 'PA166155149', 'PA166154399', 'PA166156650', 'PA166162478', 'PA166153827', 'PA166155772', 'PA166155050', 'PA166155812', 'PA166176938', 'PA166154586', 'PA166155364', 'PA166157485', 'PA166153674', 'PA166159112', 'PA166170287', 'PA166154554', 'PA166156009', 'PA166156589', 'PA166156131', 'PA166156487', 'PA166170207', 'PA166176939', 'PA166157040', 'PA166157729', 'PA166155163', 'PA166157005', 'PA166159778', 'PA166153582', 'PA166157116', 'PA166156294', 'PA166156560', 'PA166170609', 'PA166156676', 'PA166154471', 'PA166155422', 'PA166153716', 'PA166159071', 'PA166157475', 'PA166154976', 'PA166156450', 'PA166157698', 'PA166157469', 'PA166154846', 'PA166154535', 'PA166154604', 'PA166156600', 'PA166159086', 'PA166153691', 'PA166161456', 'PA166170355', 'PA166157149', 'PA166160428', 'PA166156902', 'PA166156527', 'PA166157341', 'PA166154026', 'PA166156727', 'PA166162502', 'PA166156584', 'PA166155879', 'PA166154719', 'PA166157268', 'PA166154478', 'PA166155008', 'PA166159096', 'PA166154521', 'PA166155637', 'PA166157829', 'PA166157129', 'PA166155531', 'PA166157006', 'PA166153982', 'PA166154663', 'PA166157787', 'PA166154716', 'PA166154082', 'PA166157351', 'PA166178416', 'PA166155693', 'PA166160209', 'PA166177193', 'PA166157097', 'PA166153685', 'PA166165305', 'PA166156065', 'PA166160527', 'PA166154746', 'PA166156090', 'PA166154756', 'PA166162453', 'PA166155187', 'PA166157456', 'PA166170568', 'PA166170124', 'PA166177128', 'PA166170086', 'PA166157563', 'PA166164890', 'PA166155263', 'PA166155796', 'PA166156638', 'PA166154406', 'PA166157509', 'PA166156778', 'PA166157570', 'PA166163571', 'PA166154914', 'PA166157715', 'PA166157289', 'PA166154832', 'PA166157304', 'PA166156319', 'PA166154678', 'PA166159800', 'PA166156360', 'PA166156925', 'PA166154793', 'PA166160567', 'PA166157205', 'PA166160158', 'PA166153855', 'PA166154614', 'PA166176955', 'PA166154002', 'PA166154061', 'PA166157885', 'PA166156359', 'PA166155250', 'PA166154686', 'PA166156380', 'PA166159109', 'PA166157525', 'PA166153735', 'PA166154754', 'PA166155346', 'PA166153929', 'PA166154385', 'PA166155024', 'PA166157457', 'PA166156125', 'PA166154515', 'PA166157578', 'PA166153766', 'PA166156555', 'PA166160145', 'PA166154248', 'PA166157067', 'PA166156281', 'PA166154625', 'PA166156641', 'PA166178060', 'PA166156017', 'PA166156918', 'PA166178398', 'PA166160093', 'PA166154857', 'PA166156686', 'PA166155197', 'PA166157086', 'PA166157319', 'PA166169996', 'PA166156518', 'PA166157160', 'PA166157857', 'PA166177140', 'PA166154476', 'PA166156671', 'PA166154129', 'PA166161830', 'PA166154295', 'PA166156126', 'PA166176962', 'PA166154987', 'PA166156708', 'PA166154435', 'PA166156976', 'PA166154118', 'PA166155085', 'PA166155985', 'PA166156434', 'PA166157366', 'PA166156890', 'PA166153896', 'PA166156623', 'PA166157312', 'PA166157862', 'PA166157652', 'PA166157408', 'PA166154886', 'PA166157631', 'PA166171157', 'PA166154342', 'PA166154148', 'PA166160865', 'PA166153983', 'PA166153997', 'PA166169895', 'PA166153953', 'PA166163394', 'PA166154258', 'PA166154693', 'PA166156564', 'PA166161139', 'PA166156613', 'PA166153540', 'PA166154298', 'PA166157082', 'PA166157423', 'PA166157913', 'PA166159110', 'PA166176143', 'PA166153956', 'PA166178193', 'PA166156910', 'PA166154740', 'PA166157412', 'PA166157151', 'PA166153566', 'PA166156874', 'PA166160182', 'PA166154128', 'PA166156411', 'PA166156005', 'PA166159457', 'PA166153863', 'PA166155204', 'PA166163569', 'PA166162449', 'PA166154628', 'PA166156428', 'PA166156346', 'PA166153833', 'PA166154872', 'PA166154350', 'PA166176964', 'PA166156748', 'PA166171210', 'PA166153805', 'PA166153843', 'PA166157486', 'PA166157380', 'PA166154031', 'PA166157941', 'PA166162578', 'PA166157221', 'PA166154982', 'PA166156340', 'PA166154113', 'PA166155906', 'PA166156003', 'PA166157410', 'PA166156683', 'PA166153782', 'PA166157805', 'PA166154517', 'PA166156444', 'PA166154489', 'PA166154012', 'PA166153893', 'PA166163735', 'PA166154973', 'PA166154024', 'PA166153629', 'PA166153974', 'PA166153818', 'PA166154711', 'PA166155954', 'PA166176949', 'PA128:1183681726', 'PA166155099', 'Haplotype for PA356', 'PA166153830', 'PA166157250', 'PA166154085', 'PA166153747', 'PA166156308', 'PA166156891', 'PA166156425', 'PA166154642', 'PA166156943', 'PA166157586', 'PA166154938', 'PA166156382', 'PA166156329', 'PA166155071', 'PA166156858', 'PA166154831', 'PA166155687', 'PA166157852', 'PA166157448', 'PA166155043', 'PA166155471', 'PA166155408', 'PA166155615', 'PA166160239', 'PA166153789', 'PA166155087', 'PA166162327', 'PA166154463', 'PA166154108', 'PA166154744', 'PA166157738', 'PA166155672', 'PA166157076', 'PA166157299', 'PA166155760', 'PA166154979', 'PA166171050', 'PA166153904', 'PA166157262', 'PA166155902', 'PA166153648', 'PA166155780', 'PA166163246', 'PA166160554', 'PA166177889', 'PA166155553', 'PA166157847', 'PA166155748', 'PA166157029', 'PA166160453', 'PA166165358', 'PA166155326', 'PA166155120', 'PA166154081', 'PA166153546', 'PA166165346', 'PA166155357', 'PA166178404', 'PA166175853', 'PA166153636', 'PA166156566', 'PA166155752', 'PA166158911', 'PA166157783', 'PA166154481', 'PA166157068', 'PA166153659', 'PA166156118', 'PA166157288', 'PA166178405', 'PA166156468', 'PA166153989', 'PA166161800', 'PA166155034', 'PA166157802', 'PA166154856', 'PA166156120', 'PA166153912', 'PA166159089', 'PA166153908', 'PA166156476', 'PA166156879', 'PA166163283', 'PA166157824', 'PA166156794', 'PA166156483', 'PA166175927', 'PA166153613', 'PA166160451', 'PA166157732', 'PA166155113', 'PA166156366', 'PA166155799', 'PA166157470', 'PA166156581', 'PA166159077', 'PA166170210', 'PA166159802', 'PA166155654', 'PA166169479', 'PA166155014', 'PA166157599', 'PA166153993', 'PA166159070', 'PA166157838', 'PA166155669', 'PA166157813', 'PA166157171', 'PA166177119', 'PA166154160', 'PA166154311', 'PA166153775', 'PA166154327', 'PA166156446', 'PA166170572', 'PA166157564', 'PA166157358', 'PA166153979', 'PA166176959', 'PA166156522', 'PA166157912', 'PA166156117', 'PA166157123', 'PA166161135', 'PA166155766', 'PA166177186', 'PA166157602', 'PA166157088', 'PA166157706', 'PA166155968', 'PA166154636', 'PA166155834', 'PA166153957', 'PA166170032', 'PA166155236', 'PA166160115', 'PA166157153', 'PA166156528', 'PA166165303', 'PA166155287', 'PA166165360', 'PA166156878', 'PA397:1183685159', 'PA166157295', 'PA166157447', 'PA166170126', 'PA166157387', 'PA166163669', 'PA166155666', 'PA166177180', 'PA166153860', 'PA166154757', 'PA166157240', 'PA166155535', 'PA166165312', 'PA166157773', 'PA166154017', 'PA166154710', 'PA166156402', 'PA166163444', 'PA166154145', 'PA166155934', 'PA166169828', 'PA166170093', 'PA166154013', 'PA166164958', 'PA166153924', 'PA166153719', 'PA166155356', 'PA166154613', 'PA166153654', 'PA166157245', 'PA166154594', 'PA166159995', 'PA166162753', 'PA166157143', 'PA166156905', 'PA166170010', 'PA166156461', 'PA166153932', 'PA166157810', 'PA166154047', 'PA131:1183682177', 'PA166154555', 'PA166155606', 'PA166177898', 'PA166155717', 'PA166155173', 'PA166155452', 'PA166155701', 'PA166159114', 'PA166154434', 'PA166178547', 'PA166170852', 'PA166155117', 'PA166155595', 'PA166155285', 'PA166156375', 'PA166159090', 'PA166153751', 'PA166157121', 'PA166156833', 'PA166161241', 'PA166176952', 'PA166155405', 'PA166157275', 'PA166159798', 'PA166157938', 'PA166154849', 'PA166154458', 'PA166154262', 'PA166153873', 'PA166159597', 'PA166177107', 'PA166154934', 'PA166156056', 'PA166154283', 'PA166155153', 'PA166155761', 'PA166154127', 'PA166156790', 'PA166154708', 'PA166157019', 'PA166155276', 'PA166156989', 'PA166175994', 'PA166162770', 'PA166154004', 'PA166165332', 'PA166157281', 'PA166154467', 'PA166156639', 'PA166153892', 'PA166153894', 'PA166157749', 'PA166159781', 'PA166157521', 'PA166156297', 'PA166155329', 'PA166162356', 'PA166160480', 'PA166155740', 'PA166154747', 'PA166156611', 'PA166157147', 'PA166153610', 'PA166153635', 'PA166157584', 'PA166155650', 'PA166153664', 'PA166155759', 'PA166177183', 'PA166156930', 'PA166156016', 'PA166154995', 'PA166154796', 'PA166157294', 'PA166156330', 'PA166161454', 'PA166157361', 'PA166154462', 'PA166154321', 'PA166156937', 'PA166153671', 'PA166153647', 'PA166171207', 'PA166156286', 'PA166171159', 'PA166157468', 'PA166170654', 'PA166155523', 'PA166153795', 'PA166156834', 'PA166153972', 'PA166161414', 'PA166157409', 'PA166153743', 'PA166153601', 'PA166154070', 'PA166157508', 'PA166156418', 'PA166154983', 'PA166154431', 'PA166156781', 'PA166155005', 'PA166154381', 'PA166155923', 'PA166154510', 'PA166155411', 'PA166155267', 'PA166156537', 'PA166165338', 'PA166153885', 'PA166156448', 'PA166157191', 'PA166157574', 'PA166156175', 'PA166163676', 'PA166155621', 'PA166164896', 'PA166156663', 'PA166157103', 'PA166155668', 'PA166154442', 'PA166164939', 'PA166157329', 'PA166176111', 'PA166155736', 'PA166156484', 'PA166154852', 'PA166177122', 'PA124:1183682639', 'PA166154369', 'PA166156287', 'PA166153952', 'PA166156064', 'PA166171110', 'PA166155161', 'PA166153618', 'PA166156389', 'PA166154366', 'PA166155703', 'PA166156953', 'PA166155470', 'PA166154745', 'PA166157439', 'PA166155130', 'PA166156846', 'PA166171108', 'PA166153961', 'PA166157589', 'PA166159107', 'PA166155108', 'PA166156022', 'PA166169891', 'PA166157932', 'PA166157910', 'PA166159124', 'PA166154623', 'PA166170798', 'PA166155128', 'PA166160529', 'PA166156250', 'PA166157760', 'PA166178430', 'PA166156698', 'PA166178401', 'PA166165330', 'PA166154484', 'PA166177787', 'PA166153903', 'PA166155610', 'PA166153655', 'PA166154818', 'PA166170121', 'PA166155953', 'PA166154331', 'PA166154665', 'PA166154506', 'PA166156128', 'PA166157530', 'PA166157647', 'PA166154402', 'PA166157399', 'PA166170321', 'PA166160107', 'PA166157377', 'PA166157069', 'PA166160587', 'PA166154019', 'PA166156596', 'PA166154903', 'PA166160033', 'PA166162248', 'PA166155262', 'PA166165139', 'PA166155594', 'PA166154539', 'PA166154984', 'PA166156035', 'PA166156323', 'PA166176934', 'PA166156467', 'PA166154915', 'PA166155175', 'PA166154271', 'PA166157744', 'PA166163375', 'PA166157112', 'PA166157173', 'PA166157797', 'PA166156912', 'PA166178088', 'PA166157114', 'PA166165096', 'PA166157888', 'PA166155198', 'PA166157876', 'PA166154611', 'PA166154906', 'PA166155538', 'PA166161834', 'PA166155676', 'PA166165271', 'PA166159550', 'PA166154803', 'PA166154421', 'PA166155684', 'PA166154599', 'PA166157065', 'PA166155635', 'PA166155971', 'PA166164989', 'PA166156951', 'PA166153934', 'PA166154353', 'null:PA33532', 'PA166170631', 'PA166156381', 'PA166154802', 'PA166156632', 'PA166177104', 'PA166161442', 'PA166155363', 'PA166153901', 'PA166157807', 'PA166153813', 'PA166156984', 'PA166157207', 'PA166155260', 'PA166153644', 'PA166162576', 'PA166155199', 'PA166157639', 'PA166157841', 'PA166164956', 'PA166153777', 'PA166155982', 'PA166157963', 'PA166170511', 'PA166155328', 'PA166153724', 'PA166156998', 'PA166155300', 'PA166155233', 'PA166154975', 'PA166156888', 'PA166157745', 'PA166154632', 'PA166163754', 'PA166156496', 'PA166155539', 'PA166156681', 'PA166164877', 'PA166154771', 'PA166156490', 'PA166157055', 'PA166159977', 'PA166155032', 'PA166177113', 'PA166155976', 'PA166154561', 'PA166178025', 'PA166159130', 'PA166154899', 'PA166157347', 'PA166157078', 'null:PA35845', 'PA166153602', 'PA166153809', 'PA166154109', 'PA166156921', 'PA166153595', 'PA166163166', 'PA166155667', 'PA166163205', 'PA166156033', 'PA166159126', 'PA166157405', 'PA166177184', 'PA166160204', 'PA166154707', 'PA166157256', 'PA166170184', 'PA166160206', 'PA166160877', 'PA166155399', 'PA166177791', 'PA166155063', 'PA166154822', 'PA166155282', 'PA166157694', 'PA166156636', 'PA166155059', 'PA166157948', 'PA166155781', 'PA166155537', 'PA166159625', 'PA166160694', 'PA166155998', 'PA166154605', 'PA166155102', 'PA166156034', 'PA166157551', 'PA166155410', 'PA166155093', 'PA166157228', 'PA166154643', 'PA166153900', 'PA166155107', 'PA166164893', 'PA166155139', 'PA166160109', 'PA166154583', 'PA166156856', 'PA166156841', 'PA166160522', 'PA166156385', 'PA166156002', 'PA166161153', 'PA166170473', 'PA166154282', 'PA166157414', 'PA166156614', 'PA166156625', 'PA166154622', 'PA166153634', 'PA166160645', 'PA166160177', 'PA166155040', 'PA166154461', 'PA166153670', 'PA166160514', 'PA166154637', 'PA166156314', 'PA166169449', 'PA166155602', 'PA166159117', 'PA166155219', 'PA166156272', 'PA166157560', 'PA166154075', 'PA166155695', 'PA166153920', 'PA166157691', 'PA166157622', 'PA166155110', 'PA166153774', 'PA166162321', 'PA166154505', 'PA166154833', 'PA166156761', 'PA166163335', 'PA166156440', 'PA166165028', 'PA166154674', 'PA166176775', 'PA124:1183684088', 'PA166154146', 'PA166155530', 'PA166153820', 'PA166157287', 'PA166156442', 'PA166153606', 'PA166155302', 'PA166156852', 'PA166157253', 'PA166170354', 'PA166154542', 'PA166157524', 'PA166156754', 'PA166160628', 'PA166154191', 'PA166154901', 'PA166163188', 'PA166160111', 'PA166157187', 'PA166157842', 'PA166153780', 'PA166153611', 'PA166170886', 'PA166155368', 'PA166156130', 'PA166157254', 'PA166157128', 'PA166157703', 'PA166155358', 'PA166157772', 'PA166157140', 'PA166165228', 'PA166156965', 'PA166157172', 'PA166155636', 'PA166155645', 'PA166155009', 'PA166155202', 'PA166157775', 'PA166169488', 'PA166175796', 'PA166153816', 'PA166156772', 'PA166156783', 'PA166155847', 'PA166155889', 'PA166153574', 'PA166170232', 'PA166170863', 'PA166155176', 'PA166156305', 'PA166157291', 'PA166153665', 'PA166155707', 'PA166155591', 'PA166155256', 'PA166157526', 'PA166156999', 'PA166157030', 'PA166156938', 'PA166157429', 'PA166155415', 'PA166159217', 'PA166156763', 'PA166154985', 'PA166153607', 'PA166156760', 'PA166155581', 'PA166159787', 'PA166153545', 'PA166154423', 'PA166157286', 'PA166154293', 'PA166154184', 'PA166155121', 'PA166155845', 'PA166156110', 'PA166178063', 'PA166157587', 'PA166157699', 'PA166153964', 'PA166156634', 'PA166156001', 'PA166155970', 'PA166154003', 'PA166157107', 'PA166156788', 'PA166156744', 'PA166161519', 'PA166156570', 'PA166157400', 'PA166154052', 'PA166156782', 'PA166155214', 'PA166155541', 'PA166155398', 'PA166157052', 'PA166154764', 'PA166153625', 'PA166157180', 'PA166153643', 'PA166178058', 'PA166157582', 'PA166154257', 'PA166154870', 'PA166160230', 'PA166153889', 'PA166156280', 'PA166154014', 'PA166155193', 'PA166156618', 'PA166155848', 'PA166157259', 'PA166155020', 'PA166156263', 'PA166155644', 'PA166162507', 'PA166155069', 'PA166154009', 'PA166162370', 'PA166176780', 'PA166155465', 'PA166157095', 'PA166157866', 'PA166153758', 'PA166160099', 'PA166157774', 'PA166156615', 'PA166171046', 'PA166154508', 'PA166155981', 'PA166156495', 'PA166156737', 'PA166153548', 'PA166165277', 'PA166154617', 'PA166155543', 'PA166155325', 'PA166157301', 'PA166154871', 'PA166157427', 'PA166171196', 'PA166154774', 'PA166159951', 'PA166169465', 'PA166155172', 'PA166161880', 'PA166155986', 'PA166161166', 'PA166162418', 'PA166157011', 'PA166163371', 'PA166156969', 'PA166155195', 'PA166154410', 'PA166155582', 'PA166155133', 'PA166155579', 'PA166154092', 'PA166156980', 'PA166153985', 'PA166156798', 'PA166157353', 'PA166156447', 'PA166157756', 'PA166156536', 'PA166157620', 'PA166155296', 'PA166154996', 'PA166169897', 'PA166161279', 'PA166154361', 'PA166155674', 'PA166157075', 'PA166156466', 'PA166162260', 'PA166156582', 'PA166160101', 'PA166160972', 'PA166155751', 'PA166154898', 'PA166157435', 'PA166178397', 'PA166154576', 'PA166156565', 'PA166157588', 'PA166153936', 'PA166170004', 'PA166154904', 'PA166156631', 'PA166153547', 'PA166157561', 'PA166170117', 'PA166155079', 'PA166155870', 'PA166154923', 'PA166156391', 'PA166156185', 'PA166156640', 'PA166154137', 'PA166156508', 'PA166156692', 'PA166155215', 'PA166155950', 'PA166155170', 'PA166157093', 'PA166154828', 'PA166161842', 'PA166153976', 'PA166156367', 'PA166155527', 'PA166155266', 'PA166156872', 'PA166155712', 'PA166163329', 'PA166177209', 'PA166153577', 'PA166156511', 'PA166157644', 'PA166155916', 'PA166176140', 'PA166161141', 'PA166162409', 'PA166155551', 'PA166177187', 'PA166155376', 'PA166156746', 'PA166155460', 'PA166154767', 'PA166157018', 'PA166153877', 'PA166156653', 'PA166170429', 'PA166154969', 'PA166155837', 'PA166155271', 'PA166177126', 'PA166160309', 'PA166154377', 'PA166157446', 'PA166156014', 'PA166153838', 'PA166155671', 'PA166156806', 'PA166155603', 'PA166157712', 'PA166155290', 'PA166156353', 'PA166157942', 'PA166156635', 'PA166157344', 'PA166176908', 'PA166170849', 'PA166153864', 'PA166165066', 'PA166154290', 'PA166155912', 'PA166153699', 'PA166156103', 'PA166155122', 'PA166155065', 'PA166156438', 'PA166154428', 'PA166156338', 'PA166153760', 'PA166157379', 'PA166155623', 'PA166163838', 'PA166156324', 'PA166157083', 'PA166157419', 'PA166154141', 'PA166164950', 'PA166154482', 'PA166154265', 'PA166153706', 'PA166153944', 'PA166160018', 'PA166153793', 'PA166155528', 'PA166153786', 'PA166155811', 'PA166157478', 'PA166162481', 'PA166178402', 'PA166169486', 'PA166159499', 'PA166157531', 'PA166156141', 'PA166162391', 'PA166154859', 'PA166155580', 'PA166177124', 'PA166176351', 'PA166161479', 'PA166155324', 'PA166157293', 'PA166155658', 'PA166155789', 'PA166154565', 'PA166154854', 'PA166154558', 'PA166156379', 'PA166155467', 'PA166171034', 'PA166164940', 'PA166154862', 'PA166161119', 'PA166157270', 'PA166154992', 'PA166155080', 'PA166153840', 'PA166162307', 'PA166153776', 'PA166157583', 'PA166155571', 'PA166154418', 'PA166157820', 'PA166155574', 'PA166159488', 'PA166154963', 'PA166154496', 'PA166176961', 'PA166157158', 'PA166157043', 'PA166154368', 'PA166156419', 'PA166157007', 'PA166154338', 'PA166157284', 'PA166155835', 'PA166157931', 'PA166161286', 'PA166154162', 'PA166154095', 'PA166157087', 'PA166154873', 'PA166163186', 'PA166161836', 'PA166170701', 'PA166176950', 'PA166153660', 'PA166153881', 'PA166156550', 'PA166155362', 'PA166171044', 'PA166153971', 'PA166157840', 'PA166156682', 'PA166153712', 'PA166154709', 'PA166154525', 'PA166157607', 'PA166153990', 'PA166155338', 'PA166160200', 'PA166157368', 'PA166154414', 'PA166160071', 'PA166154606', 'PA166156696', 'PA166170206', 'PA166154890', 'PA166160446', 'PA166177191', 'PA166154598', 'PA166155718', 'PA166153977', 'PA166170202', 'PA166177994', 'PA166154731', 'PA166154417', 'PA128:1184470421', 'PA166171167', 'PA166161574', 'PA166155068', 'PA166153661', 'PA166157394', 'PA166154490', 'PA166155382', 'PA166160762', 'PA166153853', 'PA166157421', 'PA166156982', 'PA166161290', 'PA166159507', 'PA166156875', 'PA166171042', 'PA166155692', 'PA166154713', 'PA166156749', 'PA166153878', 'PA166156889', 'PA166157307', 'PA166157241', 'PA166155737', 'PA166157170', 'PA166157886', 'PA166155593', 'PA166154268', 'PA166153986', 'PA166155379', 'PA166159087', 'PA166156677', 'PA166177121', 'PA166157104', 'PA166156004', 'PA166156922', 'PA166155208', 'PA166157623', 'PA166163279', 'PA166156996', 'PA166157896', 'PA166154981', 'PA166159782', 'PA166170382', 'PA166157933', 'PA166154473', 'PA166156433', 'PA166156435', 'PA166165093', 'PA166153587', 'PA166154249', 'PA166153676', 'PA166156331', 'PA166165315', 'PA166154122', 'PA166159082', 'PA166178406', 'PA166157901', 'PA166159122', 'PA166157865', 'PA166157490', 'PA166155294', 'PA166154325', 'PA166177132', 'PA166163147', 'PA166163241', 'PA166156532', 'PA166154021', 'PA166156906', 'PA166155584', 'PA166156026', 'PA166155704', 'Haplotype for PA128', 'PA166176206', 'PA166154557', 'PA166160516', 'PA166157424', 'PA166155996', 'PA166153829', 'PA166153656', 'PA166155234', 'PA166156318', 'PA166155980', 'PA166153871', 'PA166155997', 'PA166165378', 'PA166155074', 'PA166157513', 'PA166156970', 'Haplotype for PA166', 'PA166157596', 'PA166154043', 'PA166153624', 'PA166170629', 'PA166155381', 'PA166156505', 'PA166157096', 'PA166159417', 'PA166157731', 'PA166177190', 'PA166160180', 'PA166156137', 'PA166154291', 'PA166154971', 'PA166154383', 'PA166156062', 'PA166156755', 'PA166157877', 'PA123:1184470420', 'PA166156751', 'PA166157146', 'PA166157314', 'PA166156577', 'PA166155655', 'PA166156793', 'PA166157821', 'PA166153800', 'PA166153764', 'PA166155726', 'PA145:1183685159', 'PA166155855', 'PA166178431', 'PA166170628', 'PA166159799', 'PA166155915', 'PA166154610', 'PA166160190', 'PA166154777', 'PA166161840', 'PA166157026', 'PA166155843', 'PA166175942', 'PA166156621', 'PA166177788', 'PA166153623', 'PA166155974', 'PA166156015', 'PA166171100', 'PA166155730', 'PA166154877', 'PA166156986', 'PA166155963', 'PA166154375', 'PA166154800', 'PA166157765', 'PA166156764', 'PA166156741', 'PA166170018', 'PA166153642', 'PA166154317', 'PA166155618', 'PA166155529', 'PA166157653', 'PA166157201', 'PA166154930', 'PA166155994', 'PA166156870', 'PA166156556', 'PA166153967', 'PA166156509', 'PA166157528', 'PA166157769', 'PA166155417', 'PA166155017', 'PA166154734', 'PA166159796', 'PA166155824', 'PA166178427', 'PA166155600', 'PA166155517', 'PA166156894', 'PA166176953', 'PA166155956', 'PA166156092', 'PA166153733', 'PA166156488', 'PA166156967', 'PA166156723', 'PA166155178', 'PA166155104', 'PA166154154', 'PA166155304', 'PA166154768', 'PA166154432', 'PA166154429', 'PA166157645', 'PA166159497', 'PA166157354', 'PA166157445', 'PA166162290', 'PA166154715', 'PA166153683', 'PA166159102', 'PA166155685', 'PA166161855', 'PA166153594', 'PA166160124', 'PA166155832', 'PA166177185', 'PA166155060', 'PA166156740', 'PA166155546', 'PA166156377'}\n"
     ]
    }
   ],
   "source": [
    "interactions[PHARMGKB_NAME] = []\n",
    "\n",
    "geneid_type = {\n",
    "    \"Gene\" : \"g\",\n",
    "    \"Disease\" : \"d\",\n",
    "    \"Chemical\" : \"r\",\n",
    "    \"Haplotype\" : \"d\",\n",
    "    # \"Variant\" : \"d\",\n",
    "    #\"VariantLocation\" : \"C\",\n",
    "    \n",
    "}\n",
    "\n",
    "# If not in the prepend dictionary, the type will not be added and instead added to this set\n",
    "types_ignored = set()\n",
    "total_ignored = 0\n",
    "\n",
    "# This prevents duplicates\n",
    "seen_interactions = set()\n",
    "duplicates_found = 0\n",
    "\n",
    "interactions_flipped = 0\n",
    "linenum = 0  \n",
    "no_pubmed_ids = 0\n",
    "# Prepending to identify each DGR so that they can be identified as a Gene (no-prepend), Drug (C), or Disease (D)\n",
    "with open(PHARMGKB_INTERACTIONS_FILE) as file:\n",
    "    header = None\n",
    "\n",
    "    for line in log_progress(file, every=1000, name=PHARMGKB_INTERACTIONS_FILE+\" progress\"):\n",
    "        linenum+=1\n",
    "        line = line.strip().split(DELIMITER)\n",
    "        \n",
    "        # Read the headers of the file and assign them to a dictionary {column_name: column_number}\n",
    "        if linenum == 1:\n",
    "            header = {name.strip(): col for col, name in enumerate(line)}\n",
    "            continue\n",
    "       \n",
    "        dgr1 = line[header[\"Entity1_id\"]]\n",
    "        dgr2 = line[header[\"Entity2_id\"]]\n",
    "        \n",
    "        # prepend the GeneIDs appropriately\n",
    "        try:\n",
    "            dgr_type1 = geneid_type[line[header[\"Entity1_type\"]]];\n",
    "        except KeyError:\n",
    "            types_ignored.add(dgr1)\n",
    "            total_ignored += 1\n",
    "            continue\n",
    "        try:\n",
    "            dgr_type2 = geneid_type[line[header[\"Entity2_type\"]]];\n",
    "        except KeyError:\n",
    "            types_ignored.add(dgr2)\n",
    "            total_ignored += 1\n",
    "            continue            \n",
    "\n",
    "        # Replace PharmGKB GeneIDs with NCBI ids\n",
    "        if dgr_type1 == \"g\":\n",
    "            lookup = pgkb_map[\"pgkb\"][dgr1]\n",
    "            if \"ncbi\" not in lookup or lookup is None:\n",
    "                raise ValueError(\"Cannot find {dgr}'s NCBI value in phkb_map\".format(dgr=dgr1))\n",
    "            dgr1 = lookup[\"ncbi\"]\n",
    "        if dgr_type2 == \"g\":\n",
    "            lookup = pgkb_map[\"pgkb\"][dgr2]\n",
    "            if \"ncbi\" not in lookup or lookup is None:\n",
    "                raise ValueError(\"Cannot find {dgr}'s NCBI value in phkb_map\".format(dgr=dgr2))\n",
    "            dgr2 = pgkb_map[\"pgkb\"][dgr2][\"ncbi\"]\n",
    "            \n",
    "\n",
    "        if str(dgr_type1) not in \"dgr\" or str(dgr_type2) not in \"dgr\":\n",
    "            print(\"type1:\\\"{a}\\\", type2:\\\"{b}\\\"\".format(a = dgr_type1, b= dgr_type2))\n",
    "            raise ValueError(i)\n",
    "            \n",
    "        interaction = {\n",
    "            \"journal\": \"PharmGKB\", \n",
    "            \"article_id\": \"0\",\n",
    "            \"pubmed_id\": \"0\",\n",
    "            \"sentence_id\": \"0\", \n",
    "            \"mention1_offset\": \"0\", \n",
    "            \"mention2_offset\": \"0\",\n",
    "            \"mention1\": line[header[\"Entity1_name\"]],\n",
    "            \"mention2\": line[header[\"Entity2_name\"]],\n",
    "            \"geneids1\": dgr1,\n",
    "            \"geneids2\": dgr2,\n",
    "            \"confidence\": \"0.999\",\n",
    "            \"excerpt\": \"Source: PharmGKB\",\n",
    "            \"type1\" : dgr_type1,\n",
    "            \"type2\" : dgr_type2,\n",
    "        }\n",
    "        \n",
    "        \n",
    "        # Not all lines will have PMIDs, and will error out if you try to access it\n",
    "        try:\n",
    "            pubids = line[header[\"PMIDs\"]].split(\";\")                \n",
    "            interaction[\"pubmed_id\"] = tuple(pubids)\n",
    "        except IndexError:\n",
    "            no_pubmed_ids += 1\n",
    "            continue\n",
    "            \n",
    "                    \n",
    "        # Remap Diseases to MESH\n",
    "        if dgr_type1 == 'd':\n",
    "            if 'PA' in dgr1 and dgr1 in pgkb_map[\"pgkb\"] and \"mesh\" in pgkb_map[\"pgkb\"][dgr1]:\n",
    "                interaction[\"geneids1\"] = pgkb_map[\"pgkb\"][dgr1]['mesh']\n",
    "\n",
    "\n",
    "        if dgr_type2 == 'd':\n",
    "            if 'PA' in dgr2 and dgr2 in pgkb_map[\"pgkb\"] and \"mesh\" in pgkb_map[\"pgkb\"][dgr2]:\n",
    "                interaction[\"geneids2\"] = pgkb_map[\"pgkb\"][dgr2]['mesh']\n",
    "                \n",
    "        if interaction[\"mention1\"] == \"CYP2D6*1\" or interaction[\"mention1\"] == \"CYP2D6*1\":\n",
    "            print(interaction, line[header[\"Entity1_type\"]], line[header[\"Entity2_type\"]])\n",
    "            break\n",
    "                \n",
    "        interactions[PHARMGKB_NAME].append(interaction)\n",
    "\n",
    "            \n",
    "\n",
    "            \n",
    "        \n",
    "print(\"{total} interactions processed\".format(total = linenum))\n",
    "print(\"{flip} interactions flipped\".format(flip = interactions_flipped))\n",
    "print(\"{missing} didn't have Pubmed IDs\".format(missing = no_pubmed_ids))\n",
    "print(\"{ignore} interactions were ignored due to having at least one of these types:\".format(ignore=total_ignored), types_ignored)"
   ]
  },
  {
   "cell_type": "markdown",
   "metadata": {},
   "source": [
    "Remove any interactions for which the a gene traces to multiple IDs."
   ]
  },
  {
   "cell_type": "code",
   "execution_count": 10,
   "metadata": {},
   "outputs": [
    {
     "name": "stdout",
     "output_type": "stream",
     "text": [
      "PLOS-PMC:\n",
      "    Total Interactions:     3832749\n",
      "    Filtered Interactions:  703112\n",
      "    Remaining Interactions: 3129637\n",
      "PHARMGKB:\n",
      "    Total Interactions:     16880\n",
      "    Filtered Interactions:  2\n",
      "    Remaining Interactions: 16878\n"
     ]
    }
   ],
   "source": [
    "\n",
    "def invalidInteraction(i):\n",
    "    t1 = i['type1']\n",
    "    t2 = i['type2']\n",
    "    id1 = i['geneids1']\n",
    "    id2 = i['geneids2']\n",
    "    \n",
    "    if t1 not in \"dgr\" or t2 not in \"dgr\":\n",
    "        print(\"type1:\\\"{a}\\\", type2:\\\"{b}\\\"\".format(a = t1, b= t2))\n",
    "        raise ValueError(i)\n",
    "        \n",
    "    if (\"PA\" in id1 and \"g\" == t1) or (\"PA\" in id2 and \"g\" == t2):\n",
    "        raise ValueError(i)\n",
    "    \n",
    "    return (';' in i['geneids1'] \n",
    "    or ';'    in i['geneids2']\n",
    "    or 'NULL' in i['article_id'] \n",
    "    or 'NULL' in i['pubmed_id'] \n",
    "    or 'NULL' in i['sentence_id'] \n",
    "    or 'NULL' in i['mention1_offset'] \n",
    "    or 'NULL' in i['mention2_offset'] \n",
    "    or 'NULL' in i['mention1'] \n",
    "    or 'NULL' in i['mention2'] \n",
    "    or 'NULL' in i['geneids1'] or len(i['geneids1']) == 0\n",
    "    or 'NULL' in i['geneids2'] or len(i['geneids2']) == 0\n",
    "    or 'NULL' in i['confidence'] \n",
    "    or 'NULL' in i['excerpt'])\n",
    "       \n",
    "for source in interactions:\n",
    "    totalInteractions = len(interactions[source])\n",
    "\n",
    "    interactions[source] = [x for x in interactions[source] if not invalidInteraction(x)]\n",
    "\n",
    "    newTotal = len(interactions[source])\n",
    "    print(\n",
    "    '''{source}:\n",
    "    Total Interactions:     {total}\n",
    "    Filtered Interactions:  {filtered}\n",
    "    Remaining Interactions: {remaining}'''\n",
    "          .format(source = source, total = totalInteractions,filtered=totalInteractions-newTotal , remaining =newTotal))\n"
   ]
  },
  {
   "cell_type": "code",
   "execution_count": null,
   "metadata": {},
   "outputs": [],
   "source": []
  },
  {
   "cell_type": "markdown",
   "metadata": {},
   "source": [
    "## Excerpt wrapping\n",
    "GeneDive expects the target genes in the excerpt to be wrapped in pound signs. This is important because a sentence may mention the target gene multiple times, so we need to use the offset data her to make sure we tag the right mention."
   ]
  },
  {
   "cell_type": "code",
   "execution_count": 11,
   "metadata": {},
   "outputs": [
    {
     "name": "stdout",
     "output_type": "stream",
     "text": [
      "Total skipped 1839635\n"
     ]
    }
   ],
   "source": [
    "total_skipped = 0\n",
    "if excerptFound and WRAP_EXCERPTS:\n",
    "    for i in interactions[PLOS_PMC_NAME]:\n",
    "        #try:\n",
    "        if i['journal'] != 'journal' and 'excerpt' in i:\n",
    "            excerpt = i['excerpt']\n",
    "\n",
    "            excerpt = re.sub('\"', '', excerpt)\n",
    "            tokens = excerpt.split(\" \")\n",
    "            offset1 = int(i['mention1_offset'])\n",
    "            offset2 = int(i['mention2_offset'])\n",
    "            \n",
    "\n",
    "            \n",
    "            if ( offset1 >= len(tokens) or offset2 >= len(tokens) ) or ('#'+i['mention1']+'#' in excerpt or '#'+i['mention2']+'#' in excerpt):\n",
    "                total_skipped+=1\n",
    "                continue\n",
    "\n",
    "            tokens[offset1] = \"\".join([\"#\",tokens[offset1],\"#\"])\n",
    "            tokens[offset2] = \"\".join([\"#\",tokens[offset2],\"#\"])\n",
    "\n",
    "            i['excerpt'] = \" \".join(tokens)\n",
    "        #except Exception:\n",
    "        #    print(i[\"article_id\"])\n",
    "print(\"Total skipped \" + str(total_skipped))"
   ]
  },
  {
   "cell_type": "markdown",
   "metadata": {},
   "source": [
    "**Specific for PMC Data**\n",
    "\n",
    "We didn't get Journal Data - we need to extract it from the article titles. Comment out the next section if journal titles were included."
   ]
  },
  {
   "cell_type": "code",
   "execution_count": 12,
   "metadata": {},
   "outputs": [],
   "source": [
    "for i in interactions[PLOS_PMC_NAME]:\n",
    "    journal_split = i['article_id'].split(\"_\")\n",
    "    x = 0\n",
    "    length = len(journal_split)\n",
    "    journal = \"\"\n",
    "    \n",
    "    while x < length:\n",
    "        if journal_split[x][:2] == \"19\" or journal_split[x][:2] == \"20\" or x == length -1:\n",
    "            journal = \" \".join(journal_split[:x])\n",
    "            break\n",
    "        x+= 1\n",
    "    \n",
    "    break\n",
    "\n",
    "    i['journal'] = journal"
   ]
  },
  {
   "cell_type": "markdown",
   "metadata": {},
   "source": [
    "Our insert statement - probably don't need to touch this"
   ]
  },
  {
   "cell_type": "code",
   "execution_count": 13,
   "metadata": {},
   "outputs": [],
   "source": [
    "INTERACTIONS_WRITE = '''insert into interactions ( journal, article_id, pubmed_id, sentence_id, mention1_offset, mention2_offset, mention1, mention2, geneids1, geneids2, probability, context, section, reactome , type1, type2) values ( ?, ?, ?, ?, ?, ?, ?, ?, ?, ?, ?, ?, ?, ? ,? ,?);'''\n",
    "DELETE_PHARMGKB_DATA = '''DELETE FROM interactions WHERE journal = \"PharmGKB\";'''\n",
    "DELETE_ALL = '''DELETE FROM interactions'''"
   ]
  },
  {
   "cell_type": "markdown",
   "metadata": {},
   "source": [
    "## Add the data to sqlite files\n",
    "\n",
    "This will load the data into the plos-pmc database and the all database."
   ]
  },
  {
   "cell_type": "code",
   "execution_count": 14,
   "metadata": {},
   "outputs": [
    {
     "data": {
      "application/vnd.jupyter.widget-view+json": {
       "model_id": "775f84de386d4262829ee3dc799c2986",
       "version_major": 2,
       "version_minor": 0
      },
      "text/plain": [
       "VBox(children=(HTML(value=''), IntProgress(value=0, max=3146515)))"
      ]
     },
     "metadata": {},
     "output_type": "display_data"
    },
    {
     "name": "stdout",
     "output_type": "stream",
     "text": [
      "All databases complete\n"
     ]
    }
   ],
   "source": [
    "# Sort the DGRs so that the lower alphanumeric mention is the first one\n",
    "def sort_interaction_dgrs(interaction):\n",
    "    \n",
    "    if interaction[\"mention1\"].lower() > interaction[\"mention2\"].lower():\n",
    "        # store temp\n",
    "        temp_mention1 = interaction[\"mention1\"]\n",
    "        temp_geneids1 = interaction[\"geneids1\"]\n",
    "        temp_type1 = interaction[\"type1\"]\n",
    "        temp_mention1_offset = interaction['mention1_offset']\n",
    "        \n",
    "        # move 2 to 1\n",
    "        interaction[\"mention1\"] = interaction[\"mention2\"]\n",
    "        interaction[\"geneids1\"] = interaction[\"geneids2\"]\n",
    "        interaction[\"type1\"] = interaction[\"type2\"]\n",
    "        interaction[\"mention1_offset\"] = interaction[\"mention2_offset\"]\n",
    "        \n",
    "        # move 1 to 2\n",
    "        interaction[\"mention2\"] = temp_mention1\n",
    "        interaction[\"geneids2\"] = temp_geneids1\n",
    "        interaction[\"type2\"] = temp_type1\n",
    "        interaction[\"mention2_offset\"] = temp_mention1_offset\n",
    "        return True\n",
    "    return False\n",
    "\n",
    "current_interaction = 0\n",
    "for sql in databases:\n",
    "    try:\n",
    "        statement = tuple();\n",
    "        # Delete all data in interactions table\n",
    "        sql[\"cursor\"].execute(DELETE_ALL)\n",
    "        sql[\"conn\"].commit()\n",
    "        sql[\"cursor\"].execute(\"Select * from interactions\")\n",
    "        if sql[\"cursor\"].rowcount > 0:\n",
    "            raise ValueError(\"There is more rows than expected\" + sql[\"cursor\"].rowcount)\n",
    "        \n",
    "        # Select interactions based on which SQL we're generating\n",
    "        if sql[\"name\"] == PLOS_PMC_NAME:\n",
    "            cur_interactions = interactions[PLOS_PMC_NAME]\n",
    "        elif sql[\"name\"] == ALL_NAME:\n",
    "            cur_interactions = interactions[PHARMGKB_NAME] + interactions[PLOS_PMC_NAME]\n",
    "        else:\n",
    "            raise NameError(\"Could not find \"+sql[\"name\"])\n",
    "            \n",
    "        for interaction in log_progress(cur_interactions, every=1000, name=sql[\"name\"]+\" database progress\"):\n",
    "            current_interaction = interaction\n",
    "            \n",
    "            # If not a tuple, end it\n",
    "            if type(interaction['pubmed_id']) is not tuple:\n",
    "                raise TypeError(\"pubmed_id \"+interaction['pubmed_id']+ \"is not a tuple\")\n",
    "                \n",
    "            sort_interaction_dgrs(interaction)\n",
    "            dgr_type2=interaction['type1']\n",
    "            dgr_type1= interaction['type2']\n",
    "                \n",
    "            for pubid in interaction['pubmed_id']:\n",
    "                statement = (\n",
    "                    interaction['journal'],         # journal\n",
    "                    interaction['article_id'],      # article_id \n",
    "                    pubid,                          # pubmed_id\n",
    "                    interaction['sentence_id'],     # sentence_id\n",
    "                    interaction['mention1_offset'], # mention1_offset\n",
    "                    interaction['mention2_offset'], # mention2_offset\n",
    "                    interaction['mention1'],        # mention1\n",
    "                    interaction['mention2'],        # mention2\n",
    "                    interaction['geneids1'],        # geneids1\n",
    "                    interaction['geneids2'],        # geneids2\n",
    "                    interaction['confidence'],      # probability\n",
    "                    interaction['excerpt'],         # context\n",
    "                    \"Unknown\",         # section\n",
    "                    0,                              # reactome\n",
    "                    interaction['type1'],           # type1\n",
    "                    interaction['type2'],           # type2\n",
    "                )\n",
    "\n",
    "\n",
    "                sql[\"cursor\"].execute(INTERACTIONS_WRITE,statement)\n",
    "\n",
    "        if WRITE:\n",
    "            sql[\"conn\"].commit()\n",
    "    except Exception as e:\n",
    "        print(INTERACTIONS_WRITE, statement)\n",
    "        print(current_interaction)\n",
    "        print('pubmed_id:',interaction['pubmed_id'])\n",
    "        print(\"type of pubmed_id:\", type(interaction['pubmed_id']))        \n",
    "        raise e\n",
    "\n",
    "\n",
    "\n",
    "print(\"All databases complete\")"
   ]
  },
  {
   "cell_type": "code",
   "execution_count": 15,
   "metadata": {},
   "outputs": [],
   "source": [
    "sql[\"conn\"].close()"
   ]
  },
  {
   "cell_type": "code",
   "execution_count": null,
   "metadata": {},
   "outputs": [],
   "source": []
  }
 ],
 "metadata": {
  "kernelspec": {
   "display_name": "Python 3",
   "language": "python",
   "name": "python3"
  },
  "language_info": {
   "codemirror_mode": {
    "name": "ipython",
    "version": 3
   },
   "file_extension": ".py",
   "mimetype": "text/x-python",
   "name": "python",
   "nbconvert_exporter": "python",
   "pygments_lexer": "ipython3",
   "version": "3.6.5"
  }
 },
 "nbformat": 4,
 "nbformat_minor": 2
}
